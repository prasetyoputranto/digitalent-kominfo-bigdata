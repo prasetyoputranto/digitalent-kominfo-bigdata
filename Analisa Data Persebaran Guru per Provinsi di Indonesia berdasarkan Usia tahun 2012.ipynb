{
 "cells": [
  {
   "cell_type": "markdown",
   "metadata": {},
   "source": [
    "# 1. Deskripsi\n",
    "Dataset ini menyajikan jumlah persebaran guru per provinsi di Indonesia berdasarkan usia pada tahun 2012. Data ini menampilkan:\n",
    "\n",
    "1. Kode Provinsi dengan kode 'kode_provinsi'\n",
    "2. Nama Provinsi dengan kode 'nama_provinsi'\n",
    "3. Tingkat Pendidikan dengan kode 'tingkat_pendidikan'\n",
    "4. Kelompok Usia para guru dengan kode 'kelompok_usia'\n",
    "5. Jumlah Personil Guru dengan kode 'jumlah_guru'\n"
   ]
  },
  {
   "cell_type": "code",
   "execution_count": 1,
   "metadata": {},
   "outputs": [],
   "source": [
    "import pandas as pd"
   ]
  },
  {
   "cell_type": "code",
   "execution_count": 2,
   "metadata": {},
   "outputs": [],
   "source": [
    "data_guru = pd.read_csv('processed-data-guru-kelompok-usia-provinsi-2012.csv', delimiter = ',', encoding = \"ISO-8859-1\")"
   ]
  },
  {
   "cell_type": "code",
   "execution_count": 3,
   "metadata": {},
   "outputs": [
    {
     "data": {
      "text/plain": [
       "Index(['kode_provinsi', 'nama_provinsi', 'tingkat_pendidikan', 'kelompok_usia',\n",
       "       'jumlah_guru'],\n",
       "      dtype='object')"
      ]
     },
     "execution_count": 3,
     "metadata": {},
     "output_type": "execute_result"
    }
   ],
   "source": [
    "data_guru.columns"
   ]
  },
  {
   "cell_type": "markdown",
   "metadata": {},
   "source": [
    "Berikut adalah 10 sampel dari data tersebut:"
   ]
  },
  {
   "cell_type": "code",
   "execution_count": 4,
   "metadata": {},
   "outputs": [
    {
     "data": {
      "text/html": [
       "<div>\n",
       "<style scoped>\n",
       "    .dataframe tbody tr th:only-of-type {\n",
       "        vertical-align: middle;\n",
       "    }\n",
       "\n",
       "    .dataframe tbody tr th {\n",
       "        vertical-align: top;\n",
       "    }\n",
       "\n",
       "    .dataframe thead th {\n",
       "        text-align: right;\n",
       "    }\n",
       "</style>\n",
       "<table border=\"1\" class=\"dataframe\">\n",
       "  <thead>\n",
       "    <tr style=\"text-align: right;\">\n",
       "      <th></th>\n",
       "      <th>kode_provinsi</th>\n",
       "      <th>nama_provinsi</th>\n",
       "      <th>tingkat_pendidikan</th>\n",
       "      <th>kelompok_usia</th>\n",
       "      <th>jumlah_guru</th>\n",
       "    </tr>\n",
       "  </thead>\n",
       "  <tbody>\n",
       "    <tr>\n",
       "      <th>0</th>\n",
       "      <td>11</td>\n",
       "      <td>Prov. Nanggroe Aceh Darussalam</td>\n",
       "      <td>TK</td>\n",
       "      <td>30 ke bawah</td>\n",
       "      <td>3203.0</td>\n",
       "    </tr>\n",
       "    <tr>\n",
       "      <th>1</th>\n",
       "      <td>11</td>\n",
       "      <td>Prov. Nanggroe Aceh Darussalam</td>\n",
       "      <td>TK</td>\n",
       "      <td>31 - 35</td>\n",
       "      <td>1652.0</td>\n",
       "    </tr>\n",
       "    <tr>\n",
       "      <th>2</th>\n",
       "      <td>11</td>\n",
       "      <td>Prov. Nanggroe Aceh Darussalam</td>\n",
       "      <td>TK</td>\n",
       "      <td>36 - 40</td>\n",
       "      <td>1227.0</td>\n",
       "    </tr>\n",
       "    <tr>\n",
       "      <th>3</th>\n",
       "      <td>11</td>\n",
       "      <td>Prov. Nanggroe Aceh Darussalam</td>\n",
       "      <td>TK</td>\n",
       "      <td>41 - 45</td>\n",
       "      <td>1089.0</td>\n",
       "    </tr>\n",
       "    <tr>\n",
       "      <th>4</th>\n",
       "      <td>11</td>\n",
       "      <td>Prov. Nanggroe Aceh Darussalam</td>\n",
       "      <td>TK</td>\n",
       "      <td>46 - 50</td>\n",
       "      <td>647.0</td>\n",
       "    </tr>\n",
       "    <tr>\n",
       "      <th>5</th>\n",
       "      <td>11</td>\n",
       "      <td>Prov. Nanggroe Aceh Darussalam</td>\n",
       "      <td>TK</td>\n",
       "      <td>51 - 55</td>\n",
       "      <td>342.0</td>\n",
       "    </tr>\n",
       "    <tr>\n",
       "      <th>6</th>\n",
       "      <td>11</td>\n",
       "      <td>Prov. Nanggroe Aceh Darussalam</td>\n",
       "      <td>TK</td>\n",
       "      <td>56 ke atas</td>\n",
       "      <td>72.0</td>\n",
       "    </tr>\n",
       "    <tr>\n",
       "      <th>7</th>\n",
       "      <td>11</td>\n",
       "      <td>Prov. Nanggroe Aceh Darussalam</td>\n",
       "      <td>SD</td>\n",
       "      <td>30 ke bawah</td>\n",
       "      <td>13968.0</td>\n",
       "    </tr>\n",
       "    <tr>\n",
       "      <th>8</th>\n",
       "      <td>11</td>\n",
       "      <td>Prov. Nanggroe Aceh Darussalam</td>\n",
       "      <td>SD</td>\n",
       "      <td>31 - 35</td>\n",
       "      <td>6266.0</td>\n",
       "    </tr>\n",
       "    <tr>\n",
       "      <th>9</th>\n",
       "      <td>11</td>\n",
       "      <td>Prov. Nanggroe Aceh Darussalam</td>\n",
       "      <td>SD</td>\n",
       "      <td>36 - 40</td>\n",
       "      <td>4467.0</td>\n",
       "    </tr>\n",
       "  </tbody>\n",
       "</table>\n",
       "</div>"
      ],
      "text/plain": [
       "   kode_provinsi                   nama_provinsi tingkat_pendidikan  \\\n",
       "0             11  Prov. Nanggroe Aceh Darussalam                 TK   \n",
       "1             11  Prov. Nanggroe Aceh Darussalam                 TK   \n",
       "2             11  Prov. Nanggroe Aceh Darussalam                 TK   \n",
       "3             11  Prov. Nanggroe Aceh Darussalam                 TK   \n",
       "4             11  Prov. Nanggroe Aceh Darussalam                 TK   \n",
       "5             11  Prov. Nanggroe Aceh Darussalam                 TK   \n",
       "6             11  Prov. Nanggroe Aceh Darussalam                 TK   \n",
       "7             11  Prov. Nanggroe Aceh Darussalam                 SD   \n",
       "8             11  Prov. Nanggroe Aceh Darussalam                 SD   \n",
       "9             11  Prov. Nanggroe Aceh Darussalam                 SD   \n",
       "\n",
       "  kelompok_usia  jumlah_guru  \n",
       "0   30 ke bawah       3203.0  \n",
       "1       31 - 35       1652.0  \n",
       "2       36 - 40       1227.0  \n",
       "3       41 - 45       1089.0  \n",
       "4       46 - 50        647.0  \n",
       "5       51 - 55        342.0  \n",
       "6    56 ke atas         72.0  \n",
       "7   30 ke bawah      13968.0  \n",
       "8       31 - 35       6266.0  \n",
       "9       36 - 40       4467.0  "
      ]
     },
     "execution_count": 4,
     "metadata": {},
     "output_type": "execute_result"
    }
   ],
   "source": [
    "data_guru.head(10)"
   ]
  },
  {
   "cell_type": "markdown",
   "metadata": {},
   "source": [
    "# 2. Statistik Data"
   ]
  },
  {
   "cell_type": "markdown",
   "metadata": {},
   "source": [
    "1. Jumlah populasi guru yang didata"
   ]
  },
  {
   "cell_type": "code",
   "execution_count": 5,
   "metadata": {},
   "outputs": [
    {
     "name": "stdout",
     "output_type": "stream",
     "text": [
      "Jumlah populasi guru yang didata adalah 2743380.0\n"
     ]
    }
   ],
   "source": [
    "print('Jumlah populasi guru yang didata adalah',data_guru.jumlah_guru.sum())"
   ]
  },
  {
   "cell_type": "markdown",
   "metadata": {},
   "source": [
    "2. Median dari kolom sebaran jumlah guru"
   ]
  },
  {
   "cell_type": "code",
   "execution_count": 6,
   "metadata": {},
   "outputs": [
    {
     "name": "stdout",
     "output_type": "stream",
     "text": [
      "Median dari kolom sebaran jumlah guru adalah 647.5\n"
     ]
    }
   ],
   "source": [
    "print('Median dari kolom sebaran jumlah guru adalah',data_guru.jumlah_guru.median())"
   ]
  },
  {
   "cell_type": "markdown",
   "metadata": {},
   "source": [
    "3. Pengelompokan populasi guru menurut provinsi"
   ]
  },
  {
   "cell_type": "code",
   "execution_count": 7,
   "metadata": {},
   "outputs": [
    {
     "data": {
      "text/plain": [
       "nama_provinsi\n",
       "Prov. Bali                          49468.0\n",
       "Prov. Banten                        90871.0\n",
       "Prov. Bengkulu                      27637.0\n",
       "Prov. D I Yogyakarta                50736.0\n",
       "Prov. DKI Jakarta                   88886.0\n",
       "Prov. Gorontalo                     17309.0\n",
       "Prov. Jambi                         41289.0\n",
       "Prov. Jawa Barat                   346064.0\n",
       "Prov. Jawa Tengah                  327613.0\n",
       "Prov. Jawa Timur                   403592.0\n",
       "Prov. Kalimantan Barat              48694.0\n",
       "Prov. Kalimantan Selatan            53396.0\n",
       "Prov. Kalimantan Tengah             40558.0\n",
       "Prov. Kalimantan Timur              51161.0\n",
       "Prov. Kepulauan Bangka Belitung     15625.0\n",
       "Prov. Kepulauan Riau                18318.0\n",
       "Prov. Lampung                      100001.0\n",
       "Prov. Maluku                        29466.0\n",
       "Prov. Maluku Utara                  15978.0\n",
       "Prov. Nanggroe Aceh Darussalam      88076.0\n",
       "Prov. Nusa Tenggara Barat           54816.0\n",
       "Prov. Nusa Tenggara Timur           65143.0\n",
       "Prov. Papua                         24356.0\n",
       "Prov. Papua Barat                    9915.0\n",
       "Prov. Riau                          75790.0\n",
       "Prov. Sulawesi Barat                18167.0\n",
       "Prov. Sulawesi Selatan             117600.0\n",
       "Prov. Sulawesi Tengah               40585.0\n",
       "Prov. Sulawesi Tenggara             42910.0\n",
       "Prov. Sulawesi Utara                36818.0\n",
       "Prov. Sumatera Barat                81034.0\n",
       "Prov. Sumatera Selatan              97709.0\n",
       "Prov. Sumatera Utara               173799.0\n",
       "Name: jumlah_guru, dtype: float64"
      ]
     },
     "execution_count": 7,
     "metadata": {},
     "output_type": "execute_result"
    }
   ],
   "source": [
    "data_guru.groupby('nama_provinsi').sum()['jumlah_guru']"
   ]
  },
  {
   "cell_type": "markdown",
   "metadata": {},
   "source": [
    "4. Pengelompokan populasi guru menurut tingkat pendidikan"
   ]
  },
  {
   "cell_type": "code",
   "execution_count": 8,
   "metadata": {},
   "outputs": [
    {
     "data": {
      "text/plain": [
       "tingkat_pendidikan\n",
       "SD     1550276.0\n",
       "SLB      10083.0\n",
       "SMA     235908.0\n",
       "SMK     159182.0\n",
       "SMP     513831.0\n",
       "TK      274100.0\n",
       "Name: jumlah_guru, dtype: float64"
      ]
     },
     "execution_count": 8,
     "metadata": {},
     "output_type": "execute_result"
    }
   ],
   "source": [
    "data_guru.groupby('tingkat_pendidikan').sum()['jumlah_guru']"
   ]
  },
  {
   "cell_type": "markdown",
   "metadata": {},
   "source": [
    "5. Pengelompokan populasi guru menurut kelompok usia"
   ]
  },
  {
   "cell_type": "code",
   "execution_count": 9,
   "metadata": {},
   "outputs": [
    {
     "data": {
      "text/plain": [
       "kelompok_usia\n",
       "30 ke bawah    505538.0\n",
       "31 - 35        341772.0\n",
       "36 - 40        296255.0\n",
       "41 - 45        469909.0\n",
       "46 - 50        527967.0\n",
       "51 - 55        383620.0\n",
       "56 ke atas     218319.0\n",
       "Name: jumlah_guru, dtype: float64"
      ]
     },
     "execution_count": 9,
     "metadata": {},
     "output_type": "execute_result"
    }
   ],
   "source": [
    "data_guru.groupby('kelompok_usia').sum()['jumlah_guru']"
   ]
  },
  {
   "cell_type": "markdown",
   "metadata": {},
   "source": [
    "# 3. Visualisasi Data"
   ]
  },
  {
   "cell_type": "code",
   "execution_count": 13,
   "metadata": {},
   "outputs": [
    {
     "data": {
      "text/plain": [
       "Text(0,0.5,'Jumlah Guru')"
      ]
     },
     "execution_count": 13,
     "metadata": {},
     "output_type": "execute_result"
    },
    {
     "data": {
      "image/png": "[encoded data removed]",
      "text/plain": [
       "<Figure size 432x288 with 1 Axes>"
      ]
     },
     "metadata": {
      "needs_background": "light"
     },
     "output_type": "display_data"
    }
   ],
   "source": [
    "ax = data_guru.groupby('nama_provinsi').sum()['jumlah_guru']\n",
    "ax = ax.plot(kind='bar', title=\"Sebaran Populasi Guru Berdasarkan Provinsi\", legend=True, fontsize=12)\n",
    "ax.set_xlabel('Provinsi', fontsize=14)\n",
    "ax.set_ylabel('Jumlah Guru', fontsize=14)"
   ]
  },
  {
   "cell_type": "code",
   "execution_count": 11,
   "metadata": {},
   "outputs": [
    {
     "data": {
      "text/plain": [
       "Text(0,0.5,'Jumlah Guru')"
      ]
     },
     "execution_count": 11,
     "metadata": {},
     "output_type": "execute_result"
    },
    {
     "data": {
      "image/png": "[encoded data removed]",
      "text/plain": [
       "<Figure size 432x288 with 1 Axes>"
      ]
     },
     "metadata": {
      "needs_background": "light"
     },
     "output_type": "display_data"
    }
   ],
   "source": [
    "ax = data_guru.groupby('tingkat_pendidikan').sum()['jumlah_guru']\n",
    "ax = ax.plot(kind='bar', title=\"Sebaran Populasi Guru Berdasarkan Tingkat Pendidikan\", legend=True, fontsize=12)\n",
    "ax.set_xlabel('Tingkat Pendidikan', fontsize=14)\n",
    "ax.set_ylabel('Jumlah Guru', fontsize=14)"
   ]
  },
  {
   "cell_type": "code",
   "execution_count": 12,
   "metadata": {},
   "outputs": [
    {
     "data": {
      "text/plain": [
       "Text(0,0.5,'Jumlah Guru')"
      ]
     },
     "execution_count": 12,
     "metadata": {},
     "output_type": "execute_result"
    },
    {
     "data": {
      "image/png": "[encoded data removed]",
      "text/plain": [
       "<Figure size 432x288 with 1 Axes>"
      ]
     },
     "metadata": {
      "needs_background": "light"
     },
     "output_type": "display_data"
    }
   ],
   "source": [
    "ax = data_guru.groupby('kelompok_usia').sum()['jumlah_guru']\n",
    "ax = ax.plot(kind='bar', title=\"Sebaran Populasi Guru Berdasarkan Kelompok Usia\", legend=True, fontsize=12)\n",
    "ax.set_xlabel('Kelompok Usia', fontsize=14)\n",
    "ax.set_ylabel('Jumlah Guru', fontsize=14)"
   ]
  },
  {
   "cell_type": "markdown",
   "metadata": {},
   "source": [
    "# 4. Analisis\n",
    "\n",
    "Dari data persebaran populasi guru di Indonesia tahun 2012, diperoleh bahwa jumlah total guru yang terdata adalah 2.743.380 orang. Berdasarkan asal provinsi, Jawa Timur memiliki jumlah guru terbanyak dengan 403.592 orang dan Papua Barat memiliki jumlah guru paling sedikit dengan 9.915 orang. \n",
    "\n",
    "Sementara itu, berdasarkan tingkat pendidikan, mayoritas guru mengajar di SD dengan total 1.550.276 orang. Jumlah guru paling sedikit adalah yang mengajar SLB dengan total 10.083 orang. \n",
    "\n",
    "Selain itu, berdasarkan kelompok usia, populasi guru yang berusia 46-50 tahun adalah yang terbanyak dengan jumlah 527.967 orang.  yang paling sedikit adalah guru yang berusia 56 tahun ke atas dengan jumlah 218.319 orang."
   ]
  }
 ],
 "metadata": {
  "kernelspec": {
   "display_name": "Python 3",
   "language": "python",
   "name": "python3"
  },
  "language_info": {
   "codemirror_mode": {
    "name": "ipython",
    "version": 3
   },
   "file_extension": ".py",
   "mimetype": "text/x-python",
   "name": "python",
   "nbconvert_exporter": "python",
   "pygments_lexer": "ipython3",
   "version": "3.7.0"
  }
 },
 "nbformat": 4,
 "nbformat_minor": 2
}
