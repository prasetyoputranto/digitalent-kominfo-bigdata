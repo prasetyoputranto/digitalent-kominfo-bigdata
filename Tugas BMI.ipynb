{
 "cells": [
  {
   "cell_type": "markdown",
   "metadata": {},
   "source": [
    "# Tugas BMI\n",
    "Prasetyo Putranto - kelas Big Data B"
   ]
  },
  {
   "cell_type": "code",
   "execution_count": 2,
   "metadata": {},
   "outputs": [
    {
     "name": "stdout",
     "output_type": "stream",
     "text": [
      "normal (healthy weight)\n"
     ]
    }
   ],
   "source": [
    "berat = 59\n",
    "tinggi_cm = 167\n",
    "tinggi_m = tinggi_cm/100\n",
    "BMI = berat / tinggi_m**2\n",
    "\n",
    "if BMI < 15:\n",
    "    print(\"Very severely underweight\")\n",
    "elif 15 <= BMI < 16:\n",
    "    print(\"severely underweight\")\n",
    "elif 16 <= BMI < 18.5:\n",
    "    print(\"underweight\")\n",
    "elif 18.5 <= BMI < 25:\n",
    "    print(\"normal (healthy weight)\")\n",
    "elif 25 <= BMI < 30:\n",
    "    print(\"overweight\")\n",
    "elif 30 <= BMI < 35:\n",
    "    print(\"moderately obese\")\n",
    "elif 35 <= BMI < 40:\n",
    "    print(\"severely obese\")\n",
    "else :\n",
    "    print(\"very severely obese\")"
   ]
  },
  {
   "cell_type": "code",
   "execution_count": null,
   "metadata": {},
   "outputs": [],
   "source": []
  }
 ],
 "metadata": {
  "kernelspec": {
   "display_name": "Python 3",
   "language": "python",
   "name": "python3"
  },
  "language_info": {
   "codemirror_mode": {
    "name": "ipython",
    "version": 3
   },
   "file_extension": ".py",
   "mimetype": "text/x-python",
   "name": "python",
   "nbconvert_exporter": "python",
   "pygments_lexer": "ipython3",
   "version": "3.7.0"
  }
 },
 "nbformat": 4,
 "nbformat_minor": 2
}
