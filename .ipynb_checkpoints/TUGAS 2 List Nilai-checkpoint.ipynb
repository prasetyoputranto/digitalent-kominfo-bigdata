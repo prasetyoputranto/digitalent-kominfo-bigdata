{
 "cells": [
  {
   "cell_type": "markdown",
   "metadata": {},
   "source": [
    "# TUGAS 2 List Nilai"
   ]
  },
  {
   "cell_type": "markdown",
   "metadata": {},
   "source": [
    "Diberikan sekumpulan Nilai Random antara 0 sampai dengan 100 sebanyak 250 nilai."
   ]
  },
  {
   "cell_type": "code",
   "execution_count": 9,
   "metadata": {},
   "outputs": [
    {
     "name": "stdout",
     "output_type": "stream",
     "text": [
      "[41, 62, 28, 40, 49, 92, 92, 39, 13, 11, 31, 48, 51, 19, 18, 38, 54, 83, 31, 77, 6, 2, 45, 60, 79, 5, 29, 3, 94, 51, 93, 4, 40, 22, 23, 11, 90, 13, 55, 80, 29, 88, 17, 93, 10, 16, 40, 24, 51, 20, 99, 62, 31, 5, 83, 78, 89, 49, 42, 85, 88, 84, 88, 78, 27, 85, 68, 63, 77, 86, 87, 68, 14, 67, 79, 30, 56, 24, 65, 48, 38, 71, 15, 99, 2, 91, 6, 54, 8, 77, 30, 21, 93, 68, 23, 60, 63, 42, 16, 64, 54, 39, 83, 32, 18, 70, 47, 55, 70, 11, 4, 17, 97, 46, 11, 59, 78, 82, 40, 12, 55, 83, 1, 26, 57, 30, 90, 27, 33, 67, 27, 19, 37, 44, 15, 94, 90, 30, 46, 91, 82, 34, 54, 30, 56, 97, 4, 59, 37, 52, 54, 91, 50, 34, 49, 43, 68, 88, 88, 82, 98, 56, 38, 67, 36, 19, 11, 46, 66, 47, 61, 50, 75, 94, 12, 50, 82, 97, 13, 15, 43, 83, 37, 12, 42, 66, 75, 69, 7, 73, 41, 77, 46, 32, 19, 11, 7, 18, 99, 15, 52, 98, 62, 56, 88, 71, 64, 43, 48, 96, 15, 89, 54, 30, 54, 91, 11, 66, 57, 10, 23, 93, 52, 96, 84, 46, 76, 57, 33, 53, 80, 87, 6, 42, 94, 38, 4, 92, 38, 11, 91, 96, 51, 7, 49, 52, 60, 18, 26, 79]\n"
     ]
    }
   ],
   "source": [
    "import random\n",
    "\n",
    "# GENERATE RANDOM\n",
    "nilaiTugas = []\n",
    "for i in range(250):\n",
    "    nilaiTugas.append(random.randrange(1,100,1))\n",
    "\n",
    "print(nilaiTugas)"
   ]
  },
  {
   "cell_type": "markdown",
   "metadata": {},
   "source": [
    " 1. Tampilkan Angka Ganjil dari ke 250 nilai tersebut"
   ]
  },
  {
   "cell_type": "code",
   "execution_count": 7,
   "metadata": {},
   "outputs": [
    {
     "name": "stdout",
     "output_type": "stream",
     "text": [
      "Nilai Ganjil dalam barisan tersebut adalah  [55, 33, 67, 3, 51, 45, 77, 43, 63, 1, 17, 9, 47, 7, 21, 49, 5, 17, 37, 43, 17, 13, 29, 95, 27, 33, 39, 83, 97, 91, 75, 59, 89, 21, 65, 1, 81, 27, 23, 9, 11, 51, 77, 87, 23, 43, 7, 21, 29, 49, 65, 35, 97, 63, 1, 35, 65, 51, 63, 51, 45, 85, 5, 83, 91, 5, 35, 9, 99, 17, 91, 33, 9, 1, 47, 59, 23, 3, 57, 3, 23, 67, 21, 27, 25, 89, 49, 57, 9, 83, 45, 33, 15, 73, 37, 57, 59, 91, 17, 83, 19, 65, 1, 53, 41, 89, 13, 1, 87, 93, 5, 85, 95, 97, 25, 43, 85]\n"
     ]
    }
   ],
   "source": [
    "# ganjil\n",
    "nilai_ganjil=[]\n",
    "for i in nilaiTugas:\n",
    "    if i%2!=0:\n",
    "        nilai_ganjil.append(i)\n",
    "print('Nilai Ganjil dalam barisan tersebut adalah ', nilai_ganjil)"
   ]
  },
  {
   "cell_type": "markdown",
   "metadata": {},
   "source": [
    "2. Tampilkan berapa banyak yang mendapatkan nilai lebih dari 70"
   ]
  },
  {
   "cell_type": "code",
   "execution_count": 8,
   "metadata": {},
   "outputs": [
    {
     "name": "stdout",
     "output_type": "stream",
     "text": [
      "Nilai yang lebih dari 70 adalah sebanyak 68\n"
     ]
    }
   ],
   "source": [
    "# nilai > 70\n",
    "\n",
    "banyak=0\n",
    "for i in nilaiTugas:\n",
    "    if i>70:\n",
    "        banyak = banyak+1\n",
    "print('Nilai yang lebih dari 70 adalah sebanyak',banyak)"
   ]
  },
  {
   "cell_type": "markdown",
   "metadata": {},
   "source": [
    "3. Tampilkan standar deviasi dari sekumpulan nilai tersebut"
   ]
  },
  {
   "cell_type": "code",
   "execution_count": 9,
   "metadata": {},
   "outputs": [
    {
     "name": "stdout",
     "output_type": "stream",
     "text": [
      "Standard Deviasinya adalah  1.8978725605266549\n"
     ]
    }
   ],
   "source": [
    "# standar deviasi berdasarkan rumus statistika\n",
    "\n",
    "total = 0\n",
    "jumlah_data = len(nilaiTugas)\n",
    "for i in nilaiTugas:\n",
    "    total = total + float(i)\n",
    "rerata = total / jumlah_data\n",
    "\n",
    "jumlah_selisih_rerata_kuadrat=0\n",
    "for i in nilaiTugas:\n",
    "    selisih = i - rerata\n",
    "    kuadrat = selisih**2\n",
    "jumlah_selisih_rerata_kuadrat=jumlah_selisih_rerata_kuadrat+kuadrat\n",
    "\n",
    "varian = jumlah_selisih_rerata_kuadrat / (jumlah_data)\n",
    "std = varian**(1/2)\n",
    "print(\"Standard Deviasinya adalah \", std)"
   ]
  },
  {
   "cell_type": "markdown",
   "metadata": {},
   "source": [
    "4. Tampilkan nilai maksimum dan minimum"
   ]
  },
  {
   "cell_type": "code",
   "execution_count": 10,
   "metadata": {},
   "outputs": [
    {
     "name": "stdout",
     "output_type": "stream",
     "text": [
      "Nilai maksimumnya adalah 99 dan nilai minimumnya adalah 1\n"
     ]
    }
   ],
   "source": [
    "# maksimum\n",
    "\n",
    "maks=nilaiTugas[0]\n",
    "for i in nilaiTugas:\n",
    "    if i> maks:\n",
    "        maks=i\n",
    "\n",
    "# minimum\n",
    "\n",
    "mini=nilaiTugas[0]\n",
    "for i in nilaiTugas:\n",
    "    if i< mini:\n",
    "        mini=i\n",
    "print ('Nilai maksimumnya adalah',maks,'dan nilai minimumnya adalah',mini)"
   ]
  },
  {
   "cell_type": "markdown",
   "metadata": {},
   "source": [
    "5. Tampilkan modus dari sekumpulan nilai tersebut"
   ]
  },
  {
   "cell_type": "code",
   "execution_count": 5,
   "metadata": {},
   "outputs": [
    {
     "name": "stdout",
     "output_type": "stream",
     "text": [
      "Modus pada data ini adalah [53, 95] dengan kemunculan sebanyak 6 kali\n"
     ]
    }
   ],
   "source": [
    "nilaiKeys = set(nilaiTugas)\n",
    "listKeys = list(nilaiKeys)\n",
    "\n",
    "kemunculan = 0\n",
    "datamodus = []\n",
    "dict_nilai = {}\n",
    "for k in listKeys:\n",
    "    n_freq = nilaiTugas.count(k)\n",
    "    dict_nilai[k] = n_freq\n",
    "    if n_freq>kemunculan:\n",
    "        kemunculan = n_freq\n",
    "\n",
    "# print(dictionaryNilai)\n",
    "\n",
    "for k,v in dict_nilai.items():\n",
    "    if v == kemunculan:\n",
    "        datamodus.append(k)\n",
    "        \n",
    "print('Modus pada data ini adalah',datamodus, 'dengan kemunculan sebanyak',kemunculan,'kali')"
   ]
  },
  {
   "cell_type": "code",
   "execution_count": null,
   "metadata": {},
   "outputs": [],
   "source": []
  }
 ],
 "metadata": {
  "kernelspec": {
   "display_name": "Python 3",
   "language": "python",
   "name": "python3"
  },
  "language_info": {
   "codemirror_mode": {
    "name": "ipython",
    "version": 3
   },
   "file_extension": ".py",
   "mimetype": "text/x-python",
   "name": "python",
   "nbconvert_exporter": "python",
   "pygments_lexer": "ipython3",
   "version": "3.7.0"
  }
 },
 "nbformat": 4,
 "nbformat_minor": 2
}
