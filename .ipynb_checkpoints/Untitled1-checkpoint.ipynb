{
 "cells": [
  {
   "cell_type": "code",
   "execution_count": 1,
   "metadata": {},
   "outputs": [
    {
     "ename": "NameError",
     "evalue": "name 'random' is not defined",
     "output_type": "error",
     "traceback": [
      "\u001b[1;31m---------------------------------------------------------------------------\u001b[0m",
      "\u001b[1;31mNameError\u001b[0m                                 Traceback (most recent call last)",
      "\u001b[1;32m<ipython-input-1-4ca7d83aeb79>\u001b[0m in \u001b[0;36m<module>\u001b[1;34m()\u001b[0m\n\u001b[0;32m      2\u001b[0m \u001b[0mnilaiTugas\u001b[0m \u001b[1;33m=\u001b[0m \u001b[1;33m[\u001b[0m\u001b[1;33m]\u001b[0m\u001b[1;33m\u001b[0m\u001b[0m\n\u001b[0;32m      3\u001b[0m \u001b[1;32mfor\u001b[0m \u001b[0mi\u001b[0m \u001b[1;32min\u001b[0m \u001b[0mrange\u001b[0m\u001b[1;33m(\u001b[0m\u001b[1;36m250\u001b[0m\u001b[1;33m)\u001b[0m\u001b[1;33m:\u001b[0m\u001b[1;33m\u001b[0m\u001b[0m\n\u001b[1;32m----> 4\u001b[1;33m     \u001b[0mnilaiTugas\u001b[0m\u001b[1;33m.\u001b[0m\u001b[0mappend\u001b[0m\u001b[1;33m(\u001b[0m\u001b[0mrandom\u001b[0m\u001b[1;33m.\u001b[0m\u001b[0mrandrange\u001b[0m\u001b[1;33m(\u001b[0m\u001b[1;36m1\u001b[0m\u001b[1;33m,\u001b[0m\u001b[1;36m100\u001b[0m\u001b[1;33m,\u001b[0m\u001b[1;36m1\u001b[0m\u001b[1;33m)\u001b[0m\u001b[1;33m)\u001b[0m\u001b[1;33m\u001b[0m\u001b[0m\n\u001b[0m\u001b[0;32m      5\u001b[0m \u001b[1;33m\u001b[0m\u001b[0m\n\u001b[0;32m      6\u001b[0m \u001b[0mprint\u001b[0m\u001b[1;33m(\u001b[0m\u001b[0mnilaiTugas\u001b[0m\u001b[1;33m)\u001b[0m\u001b[1;33m\u001b[0m\u001b[0m\n",
      "\u001b[1;31mNameError\u001b[0m: name 'random' is not defined"
     ]
    }
   ],
   "source": [
    "# GENERATE RANDOM\n",
    "nilaiTugas = []\n",
    "for i in range(250):\n",
    "    nilaiTugas.append(random.randrange(1,100,1))\n",
    "\n",
    "print(nilaiTugas)"
   ]
  },
  {
   "cell_type": "code",
   "execution_count": 2,
   "metadata": {},
   "outputs": [
    {
     "name": "stdout",
     "output_type": "stream",
     "text": [
      "[32, 49, 34, 95, 90, 47, 16, 2, 7, 99, 14, 8, 76, 83, 87, 78, 75, 60, 22, 78, 20, 22, 13, 34, 16, 74, 9, 55, 95, 23, 87, 84, 69, 76, 75, 48, 32, 25, 39, 51, 5, 70, 31, 88, 79, 95, 29, 96, 86, 31, 88, 65, 10, 52, 6, 89, 13, 59, 89, 25, 63, 67, 99, 11, 20, 59, 76, 45, 80, 2, 8, 99, 97, 90, 75, 79, 26, 18, 10, 77, 85, 59, 12, 31, 36, 83, 81, 30, 37, 39, 98, 65, 84, 79, 75, 48, 12, 56, 98, 85, 11, 19, 73, 17, 65, 31, 33, 80, 76, 18, 98, 23, 52, 43, 33, 33, 86, 58, 11, 49, 94, 69, 45, 7, 12, 59, 33, 71, 31, 67, 79, 33, 41, 86, 6, 7, 23, 70, 39, 30, 36, 43, 32, 46, 88, 87, 65, 5, 17, 33, 21, 42, 69, 29, 17, 85, 95, 52, 53, 48, 7, 67, 94, 25, 31, 90, 34, 60, 8, 26, 90, 18, 37, 46, 51, 66, 76, 54, 28, 8, 37, 44, 37, 82, 6, 48, 8, 72, 17, 79, 4, 40, 10, 17, 73, 14, 91, 42, 59, 67, 78, 88, 99, 21, 57, 39, 91, 57, 5, 40, 12, 23, 79, 61, 86, 81, 71, 26, 56, 44, 82, 95, 78, 11, 29, 18, 58, 67, 17, 56, 36, 15, 46, 83, 4, 1, 53, 69, 6, 34, 92, 77, 76, 74, 32, 29, 59, 78, 68, 85]\n"
     ]
    }
   ],
   "source": [
    "import random\n",
    "\n",
    "# GENERATE RANDOM\n",
    "nilaiTugas = []\n",
    "for i in range(250):\n",
    "    nilaiTugas.append(random.randrange(1,100,1))\n",
    "\n",
    "print(nilaiTugas)"
   ]
  },
  {
   "cell_type": "code",
   "execution_count": 8,
   "metadata": {},
   "outputs": [
    {
     "name": "stdout",
     "output_type": "stream",
     "text": [
      "81\n"
     ]
    }
   ],
   "source": [
    "banyak=0\n",
    "for i in nilaiTugas:\n",
    "    if i>70:\n",
    "        banyak = banyak+1\n",
    "print(banyak)"
   ]
  },
  {
   "cell_type": "code",
   "execution_count": 9,
   "metadata": {},
   "outputs": [
    {
     "name": "stdout",
     "output_type": "stream",
     "text": [
      "49\n",
      "95\n",
      "47\n",
      "7\n",
      "99\n",
      "83\n",
      "87\n",
      "75\n",
      "13\n",
      "9\n",
      "55\n",
      "95\n",
      "23\n",
      "87\n",
      "69\n",
      "75\n",
      "25\n",
      "39\n",
      "51\n",
      "5\n",
      "31\n",
      "79\n",
      "95\n",
      "29\n",
      "31\n",
      "65\n",
      "89\n",
      "13\n",
      "59\n",
      "89\n",
      "25\n",
      "63\n",
      "67\n",
      "99\n",
      "11\n",
      "59\n",
      "45\n",
      "99\n",
      "97\n",
      "75\n",
      "79\n",
      "77\n",
      "85\n",
      "59\n",
      "31\n",
      "83\n",
      "81\n",
      "37\n",
      "39\n",
      "65\n",
      "79\n",
      "75\n",
      "85\n",
      "11\n",
      "19\n",
      "73\n",
      "17\n",
      "65\n",
      "31\n",
      "33\n",
      "23\n",
      "43\n",
      "33\n",
      "33\n",
      "11\n",
      "49\n",
      "69\n",
      "45\n",
      "7\n",
      "59\n",
      "33\n",
      "71\n",
      "31\n",
      "67\n",
      "79\n",
      "33\n",
      "41\n",
      "7\n",
      "23\n",
      "39\n",
      "43\n",
      "87\n",
      "65\n",
      "5\n",
      "17\n",
      "33\n",
      "21\n",
      "69\n",
      "29\n",
      "17\n",
      "85\n",
      "95\n",
      "53\n",
      "7\n",
      "67\n",
      "25\n",
      "31\n",
      "37\n",
      "51\n",
      "37\n",
      "37\n",
      "17\n",
      "79\n",
      "17\n",
      "73\n",
      "91\n",
      "59\n",
      "67\n",
      "99\n",
      "21\n",
      "57\n",
      "39\n",
      "91\n",
      "57\n",
      "5\n",
      "23\n",
      "79\n",
      "61\n",
      "81\n",
      "71\n",
      "95\n",
      "11\n",
      "29\n",
      "67\n",
      "17\n",
      "15\n",
      "83\n",
      "1\n",
      "53\n",
      "69\n",
      "77\n",
      "29\n",
      "59\n",
      "85\n"
     ]
    }
   ],
   "source": [
    "for i in nilaiTugas:\n",
    "    if i%2!=0:\n",
    "        print(i)"
   ]
  },
  {
   "cell_type": "code",
   "execution_count": 5,
   "metadata": {},
   "outputs": [
    {
     "ename": "NameError",
     "evalue": "name 'nilaiTugas' is not defined",
     "output_type": "error",
     "traceback": [
      "\u001b[1;31m---------------------------------------------------------------------------\u001b[0m",
      "\u001b[1;31mNameError\u001b[0m                                 Traceback (most recent call last)",
      "\u001b[1;32m<ipython-input-5-9fceed8c79a6>\u001b[0m in \u001b[0;36m<module>\u001b[1;34m()\u001b[0m\n\u001b[1;32m----> 1\u001b[1;33m \u001b[0mprint\u001b[0m\u001b[1;33m(\u001b[0m\u001b[0mnilaiTugas\u001b[0m\u001b[1;33m[\u001b[0m\u001b[1;36m0\u001b[0m\u001b[1;33m]\u001b[0m\u001b[1;33m)\u001b[0m\u001b[1;33m\u001b[0m\u001b[0m\n\u001b[0m",
      "\u001b[1;31mNameError\u001b[0m: name 'nilaiTugas' is not defined"
     ]
    }
   ],
   "source": [
    "print(nilaiTugas[0])"
   ]
  },
  {
   "cell_type": "code",
   "execution_count": 7,
   "metadata": {},
   "outputs": [
    {
     "ename": "NameError",
     "evalue": "name 'nilaiTugas' is not defined",
     "output_type": "error",
     "traceback": [
      "\u001b[1;31m---------------------------------------------------------------------------\u001b[0m",
      "\u001b[1;31mNameError\u001b[0m                                 Traceback (most recent call last)",
      "\u001b[1;32m<ipython-input-7-d8e36d6b4ce2>\u001b[0m in \u001b[0;36m<module>\u001b[1;34m()\u001b[0m\n\u001b[1;32m----> 1\u001b[1;33m \u001b[0mprint\u001b[0m\u001b[1;33m(\u001b[0m\u001b[0mnilaiTugas\u001b[0m\u001b[1;33m)\u001b[0m\u001b[1;33m\u001b[0m\u001b[0m\n\u001b[0m",
      "\u001b[1;31mNameError\u001b[0m: name 'nilaiTugas' is not defined"
     ]
    }
   ],
   "source": [
    "print(nilaiTugas)"
   ]
  },
  {
   "cell_type": "code",
   "execution_count": 2,
   "metadata": {},
   "outputs": [
    {
     "name": "stdout",
     "output_type": "stream",
     "text": [
      "[16, 21, 59, 65, 38, 92, 90, 4, 84, 87, 57, 19, 56, 43, 9, 73, 64, 6, 91, 12, 95, 78, 86, 40, 89, 4, 82, 31, 26, 82, 6, 50, 63, 81, 96, 33, 34, 6, 4, 61, 64, 77, 64, 19, 85, 22, 10, 68, 56, 94, 27, 25, 13, 54, 95, 98, 85, 75, 18, 30, 99, 49, 45, 88, 74, 60, 16, 20, 78, 1, 92, 16, 91, 20, 87, 43, 38, 48, 18, 21, 23, 28, 36, 13, 75, 94, 52, 89, 97, 89, 41, 61, 20, 1, 55, 28, 36, 89, 83, 2, 57, 27, 40, 75, 67, 19, 11, 70, 53, 43, 8, 83, 38, 16, 70, 32, 36, 19, 9, 66, 31, 60, 56, 1, 60, 32, 78, 34, 57, 4, 49, 71, 21, 3, 91, 40, 57, 34, 44, 79, 73, 66, 55, 89, 39, 77, 18, 31, 82, 4, 63, 70, 55, 60, 86, 17, 37, 39, 64, 71, 33, 63, 42, 65, 33, 41, 85, 25, 23, 8, 55, 47, 36, 79, 33, 84, 67, 43, 33, 88, 62, 24, 4, 6, 54, 60, 35, 28, 74, 62, 82, 8, 91, 33, 90, 64, 75, 74, 75, 55, 41, 54, 92, 68, 92, 87, 57, 27, 43, 29, 6, 30, 52, 26, 30, 27, 18, 73, 74, 42, 53, 34, 46, 96, 87, 96, 96, 53, 65, 67, 95, 62, 67, 1, 15, 86, 37, 65, 47, 77, 40, 19, 86, 31, 34, 91, 63, 48, 43, 70]\n"
     ]
    }
   ],
   "source": [
    "import random\n",
    "\n",
    "# GENERATE RANDOM\n",
    "nilaiTugas = []\n",
    "for i in range(250):\n",
    "    nilaiTugas.append(random.randrange(1,100,1))\n",
    "\n",
    "print(nilaiTugas)"
   ]
  },
  {
   "cell_type": "code",
   "execution_count": 9,
   "metadata": {},
   "outputs": [
    {
     "name": "stdout",
     "output_type": "stream",
     "text": [
      "99\n",
      "23\n",
      "91\n",
      "99\n",
      "3\n",
      "93\n",
      "31\n",
      "39\n",
      "55\n",
      "37\n",
      "87\n",
      "71\n",
      "55\n",
      "51\n",
      "15\n",
      "41\n",
      "27\n",
      "9\n",
      "1\n",
      "57\n",
      "39\n",
      "99\n",
      "63\n",
      "97\n",
      "5\n",
      "15\n",
      "99\n",
      "45\n",
      "81\n",
      "93\n",
      "55\n",
      "65\n",
      "7\n",
      "1\n",
      "1\n",
      "67\n",
      "13\n",
      "3\n",
      "65\n",
      "93\n",
      "63\n",
      "79\n",
      "21\n",
      "35\n",
      "37\n",
      "81\n",
      "75\n",
      "41\n",
      "79\n",
      "77\n",
      "83\n",
      "53\n",
      "17\n",
      "25\n",
      "45\n",
      "87\n",
      "15\n",
      "75\n",
      "87\n",
      "15\n",
      "45\n",
      "97\n",
      "93\n",
      "85\n",
      "61\n",
      "47\n",
      "71\n",
      "47\n",
      "53\n",
      "17\n",
      "91\n",
      "77\n",
      "35\n",
      "29\n",
      "93\n",
      "47\n",
      "37\n",
      "47\n",
      "3\n",
      "53\n",
      "17\n",
      "77\n",
      "41\n",
      "1\n",
      "61\n",
      "9\n",
      "89\n",
      "91\n",
      "79\n",
      "37\n",
      "81\n",
      "63\n",
      "9\n",
      "93\n",
      "61\n",
      "9\n",
      "21\n",
      "87\n",
      "9\n",
      "23\n",
      "47\n",
      "43\n",
      "91\n",
      "21\n",
      "75\n",
      "29\n",
      "35\n",
      "31\n",
      "43\n",
      "79\n",
      "39\n",
      "41\n",
      "45\n",
      "95\n",
      "25\n",
      "73\n",
      "43\n",
      "19\n",
      "1\n",
      "83\n",
      "45\n",
      "49\n",
      "79\n",
      "73\n",
      "69\n",
      "3\n",
      "49\n"
     ]
    }
   ],
   "source": [
    "for i in nilaiTugas:\n",
    "    if i%2!=0:\n",
    "        print(i)"
   ]
  },
  {
   "cell_type": "code",
   "execution_count": 10,
   "metadata": {},
   "outputs": [
    {
     "name": "stdout",
     "output_type": "stream",
     "text": [
      "79\n"
     ]
    }
   ],
   "source": [
    "banyak=0\n",
    "for i in nilaiTugas:\n",
    "    if i>70:\n",
    "        banyak = banyak+1\n",
    "print(banyak)"
   ]
  },
  {
   "cell_type": "code",
   "execution_count": 13,
   "metadata": {
    "scrolled": true
   },
   "outputs": [
    {
     "name": "stdout",
     "output_type": "stream",
     "text": [
      "[22, 56, 22, 99, 23, 82, 24, 91, 99, 66, 3, 52, 93, 31, 39, 55, 48, 37, 32, 87, 94, 71, 55, 51, 15, 41, 27, 14, 9, 1, 96, 57, 34, 39, 86, 99, 66, 28, 63, 38, 97, 14, 5, 76, 15, 99, 45, 2, 6, 76, 30, 81, 93, 55, 65, 78, 14, 10, 90, 20, 96, 7, 54, 18, 64, 1, 96, 1, 67, 76, 80, 13, 64, 94, 3, 10, 18, 74, 32, 65, 50, 93, 63, 79, 70, 21, 35, 10, 37, 81, 4, 36, 75, 70, 41, 79, 94, 50, 28, 77, 83, 53, 78, 74, 17, 25, 45, 87, 56, 96, 15, 75, 94, 87, 52, 15, 84, 45, 97, 93, 72, 24, 85, 28, 61, 90, 66, 14, 47, 62, 71, 47, 53, 17, 91, 50, 24, 77, 30, 16, 35, 29, 88, 76, 93, 16, 47, 80, 37, 76, 47, 3, 53, 17, 56, 74, 77, 41, 1, 61, 9, 14, 50, 34, 90, 90, 89, 66, 91, 79, 12, 24, 16, 37, 81, 46, 63, 9, 93, 96, 76, 30, 61, 4, 9, 21, 87, 10, 9, 23, 47, 43, 88, 92, 91, 66, 82, 44, 21, 36, 75, 26, 29, 8, 2, 22, 28, 10, 42, 6, 94, 35, 8, 31, 43, 79, 39, 68, 41, 66, 45, 60, 95, 25, 64, 24, 73, 40, 50, 43, 26, 4, 19, 1, 12, 83, 45, 52, 49, 42, 79, 96, 73, 46, 40, 44, 26, 69, 3, 49]\n"
     ]
    }
   ],
   "source": [
    "print(nilaiTugas)"
   ]
  },
  {
   "cell_type": "code",
   "execution_count": 17,
   "metadata": {},
   "outputs": [
    {
     "name": "stdout",
     "output_type": "stream",
     "text": [
      "99\n"
     ]
    }
   ],
   "source": [
    "maks=nilaiTugas[0]\n",
    "for i in nilaiTugas:\n",
    "    if i> maks:\n",
    "        maks=i\n",
    "print (maks)"
   ]
  },
  {
   "cell_type": "code",
   "execution_count": 17,
   "metadata": {},
   "outputs": [
    {
     "name": "stdout",
     "output_type": "stream",
     "text": [
      "21\n",
      "59\n",
      "65\n",
      "87\n",
      "57\n",
      "19\n",
      "43\n",
      "9\n",
      "73\n",
      "91\n",
      "95\n",
      "89\n",
      "31\n",
      "63\n",
      "81\n",
      "33\n",
      "61\n",
      "77\n",
      "19\n",
      "85\n",
      "27\n",
      "25\n",
      "13\n",
      "95\n",
      "85\n",
      "75\n",
      "99\n",
      "49\n",
      "45\n",
      "1\n",
      "91\n",
      "87\n",
      "43\n",
      "21\n",
      "23\n",
      "13\n",
      "75\n",
      "89\n",
      "97\n",
      "89\n",
      "41\n",
      "61\n",
      "1\n",
      "55\n",
      "89\n",
      "83\n",
      "57\n",
      "27\n",
      "75\n",
      "67\n",
      "19\n",
      "11\n",
      "53\n",
      "43\n",
      "83\n",
      "19\n",
      "9\n",
      "31\n",
      "1\n",
      "57\n",
      "49\n",
      "71\n",
      "21\n",
      "3\n",
      "91\n",
      "57\n",
      "79\n",
      "73\n",
      "55\n",
      "89\n",
      "39\n",
      "77\n",
      "31\n",
      "63\n",
      "55\n",
      "17\n",
      "37\n",
      "39\n",
      "71\n",
      "33\n",
      "63\n",
      "65\n",
      "33\n",
      "41\n",
      "85\n",
      "25\n",
      "23\n",
      "55\n",
      "47\n",
      "79\n",
      "33\n",
      "67\n",
      "43\n",
      "33\n",
      "35\n",
      "91\n",
      "33\n",
      "75\n",
      "75\n",
      "55\n",
      "41\n",
      "87\n",
      "57\n",
      "27\n",
      "43\n",
      "29\n",
      "27\n",
      "73\n",
      "53\n",
      "87\n",
      "53\n",
      "65\n",
      "67\n",
      "95\n",
      "67\n",
      "1\n",
      "15\n",
      "37\n",
      "65\n",
      "47\n",
      "77\n",
      "19\n",
      "31\n",
      "91\n",
      "63\n",
      "43\n"
     ]
    }
   ],
   "source": [
    "for i in nilaiTugas:\n",
    "    if i%2!=0:\n",
    "        print(i )\n"
   ]
  },
  {
   "cell_type": "code",
   "execution_count": 18,
   "metadata": {},
   "outputs": [
    {
     "name": "stdout",
     "output_type": "stream",
     "text": [
      "1\n"
     ]
    }
   ],
   "source": [
    "mini=nilaiTugas[0]\n",
    "for i in nilaiTugas:\n",
    "    if i< mini:\n",
    "        mini=i\n",
    "print (mini)"
   ]
  },
  {
   "cell_type": "code",
   "execution_count": 11,
   "metadata": {},
   "outputs": [
    {
     "name": "stdout",
     "output_type": "stream",
     "text": [
      "- Jumlah Data:  250\n",
      "- Rerata :  50.588\n",
      "- Jumlah (data - rata-rata)**2 :  383.689744\n",
      "- Varian :  1.5409226666666667\n",
      "- Standard Deviasinya adalah  1.2413390619273474\n"
     ]
    }
   ],
   "source": [
    "# 1. Menentukan nilai rerata\n",
    "total = 0\n",
    "jumlah_data = len(nilaiTugas)\n",
    "for i in nilaiTugas:\n",
    "    total = total + float(i)\n",
    "rerata = total / jumlah_data\n",
    "print(\"- Jumlah Data: \", jumlah_data)\n",
    "print(\"- Rerata : \", rerata)\n",
    "\n",
    "# 2. Hitung Selisih data dengan Rata-rata, kemudian dikuadratkan\n",
    "# 3. Jumlahkan seluruh kuadrat dari selisih data dan rata-rata\n",
    "jumlah_selisih_rerata_kuadrat=0\n",
    "for i in nilaiTugas:\n",
    "    selisih = i - rerata\n",
    "    kuadrat = selisih**2\n",
    "jumlah_selisih_rerata_kuadrat=jumlah_selisih_rerata_kuadrat+kuadrat\n",
    "print(\"- Jumlah (data - rata-rata)**2 : \",jumlah_selisih_rerata_kuadrat)\n",
    "\n",
    "# 4. Hasil No 3 dibagi dengan (Jumlah Populasi - 1) atau Jumlah populasi ya?\n",
    "varian = jumlah_selisih_rerata_kuadrat / (jumlah_data - 1)\n",
    "print(\"- Varian : \", varian)\n",
    "\n",
    "# 5. Akar kan Hasilnya\n",
    "std = varian**(1/2)\n",
    "print(\"- Standard Deviasinya adalah \", std)"
   ]
  },
  {
   "cell_type": "code",
   "execution_count": 24,
   "metadata": {},
   "outputs": [
    {
     "name": "stdout",
     "output_type": "stream",
     "text": [
      "1\n",
      "3\n",
      "8\n"
     ]
    }
   ],
   "source": [
    "a=[1,5,9,3,7,3,8,9,4]\n",
    "i = 0\n",
    "while i < len(a):\n",
    "    print (a[i])\n",
    "    i = i + 3\n"
   ]
  },
  {
   "cell_type": "code",
   "execution_count": 17,
   "metadata": {},
   "outputs": [
    {
     "name": "stdout",
     "output_type": "stream",
     "text": [
      "41\n",
      "41\n",
      "17\n",
      "75\n",
      "11\n",
      "25\n",
      "75\n",
      "41\n",
      "1\n",
      "43\n",
      "85\n",
      "31\n",
      "35\n",
      "47\n",
      "91\n",
      "95\n",
      "33\n",
      "61\n",
      "21\n",
      "71\n",
      "67\n",
      "3\n",
      "23\n",
      "55\n",
      "89\n",
      "47\n",
      "83\n",
      "53\n",
      "83\n",
      "33\n",
      "61\n",
      "31\n",
      "71\n",
      "69\n",
      "81\n",
      "49\n",
      "75\n",
      "63\n",
      "69\n",
      "79\n",
      "81\n",
      "59\n",
      "85\n",
      "95\n",
      "45\n",
      "59\n",
      "45\n",
      "93\n",
      "9\n",
      "77\n",
      "11\n",
      "71\n",
      "7\n",
      "35\n",
      "87\n",
      "91\n",
      "13\n",
      "63\n",
      "89\n",
      "63\n",
      "99\n",
      "61\n",
      "61\n",
      "79\n",
      "49\n",
      "11\n",
      "81\n",
      "61\n",
      "75\n",
      "59\n",
      "25\n",
      "77\n",
      "97\n",
      "55\n",
      "17\n",
      "11\n",
      "99\n",
      "53\n",
      "43\n",
      "43\n",
      "95\n",
      "95\n",
      "77\n",
      "1\n",
      "93\n",
      "67\n",
      "1\n",
      "73\n",
      "11\n",
      "71\n",
      "51\n",
      "73\n",
      "65\n",
      "95\n",
      "37\n",
      "9\n",
      "67\n",
      "53\n",
      "53\n",
      "7\n",
      "21\n",
      "69\n",
      "17\n",
      "9\n",
      "67\n",
      "31\n",
      "85\n",
      "45\n",
      "97\n",
      "33\n",
      "77\n",
      "95\n",
      "53\n",
      "35\n",
      "25\n",
      "77\n",
      "33\n",
      "37\n",
      "95\n",
      "63\n",
      "1\n",
      "79\n",
      "23\n",
      "3\n",
      "45\n",
      "89\n",
      "35\n",
      "95\n"
     ]
    }
   ],
   "source": [
    "for i in nilaiTugas:\n",
    "    if i%2!=0:\n",
    "        print( i)\n"
   ]
  },
  {
   "cell_type": "code",
   "execution_count": 18,
   "metadata": {},
   "outputs": [
    {
     "name": "stdout",
     "output_type": "stream",
     "text": [
      "Nilai yang lebih dari 70 adalah sebanyak  86\n"
     ]
    }
   ],
   "source": [
    "banyak=0\n",
    "for i in nilaiTugas:\n",
    "    if i>70:\n",
    "        banyak = banyak+1\n",
    "print('Nilai yang lebih dari 70 adalah sebanyak ',banyak)"
   ]
  },
  {
   "cell_type": "code",
   "execution_count": 19,
   "metadata": {},
   "outputs": [
    {
     "name": "stdout",
     "output_type": "stream",
     "text": [
      "Nilai maksimumnya sebesar 99\n"
     ]
    }
   ],
   "source": [
    "\n",
    "maks=nilaiTugas[0]\n",
    "for i in nilaiTugas:\n",
    "    if i> maks:\n",
    "        maks=i\n",
    "print ('Nilai maksimumnya sebesar',maks)"
   ]
  },
  {
   "cell_type": "code",
   "execution_count": 20,
   "metadata": {},
   "outputs": [
    {
     "name": "stdout",
     "output_type": "stream",
     "text": [
      "Nilai minimumnya sebesar 1\n"
     ]
    }
   ],
   "source": [
    "mini=nilaiTugas[0]\n",
    "for i in nilaiTugas:\n",
    "    if i< mini:\n",
    "        mini=i\n",
    "print ('Nilai minimumnya sebesar',mini)"
   ]
  },
  {
   "cell_type": "code",
   "execution_count": 21,
   "metadata": {},
   "outputs": [
    {
     "name": "stdout",
     "output_type": "stream",
     "text": [
      "- Standard Deviasinya adalah  2.6961164514313385\n"
     ]
    }
   ],
   "source": [
    "\n",
    "# 1. Menentukan nilai rerata\n",
    "total = 0\n",
    "jumlah_data = len(nilaiTugas)\n",
    "for i in nilaiTugas:\n",
    "    total = total + float(i)\n",
    "rerata = total / jumlah_data\n",
    "\n",
    "# 2. Hitung Selisih data dengan Rata-rata, kemudian dikuadratkan\n",
    "# 3. Jumlahkan seluruh kuadrat dari selisih data dan rata-rata\n",
    "jumlah_selisih_rerata_kuadrat=0\n",
    "for i in nilaiTugas:\n",
    "    selisih = i - rerata\n",
    "    kuadrat = selisih**2\n",
    "jumlah_selisih_rerata_kuadrat=jumlah_selisih_rerata_kuadrat+kuadrat\n",
    "\n",
    "\n",
    "# 4. Hasil No 3 dibagi dengan (Jumlah Populasi - 1) atau Jumlah populasi ya?\n",
    "varian = jumlah_selisih_rerata_kuadrat / (jumlah_data - 1)\n",
    "\n",
    "\n",
    "# 5. Akar kan Hasilnya\n",
    "std = varian**(1/2)\n",
    "print(\"- Standard Deviasinya adalah \", std)"
   ]
  },
  {
   "cell_type": "code",
   "execution_count": 22,
   "metadata": {},
   "outputs": [
    {
     "name": "stdout",
     "output_type": "stream",
     "text": [
      "Nilai yang lebih dari 70 adalah sebanyak 86\n",
      "Standard Deviasinya adalah  2.6961164514313385\n",
      "Nilai maksimumnya adalah 99\n",
      "Nilai minimumnya adalah 1\n"
     ]
    }
   ],
   "source": [
    "\n",
    "# nilai > 70\n",
    "\n",
    "banyak=0\n",
    "for i in nilaiTugas:\n",
    "    if i>70:\n",
    "        banyak = banyak+1\n",
    "print('Nilai yang lebih dari 70 adalah sebanyak',banyak)\n",
    "\n",
    "# standar deviasi\n",
    "\n",
    "# 1. Menentukan nilai rerata\n",
    "total = 0\n",
    "jumlah_data = len(nilaiTugas)\n",
    "for i in nilaiTugas:\n",
    "    total = total + float(i)\n",
    "rerata = total / jumlah_data\n",
    "\n",
    "# 2. Hitung Selisih data dengan Rata-rata, kemudian dikuadratkan\n",
    "# 3. Jumlahkan seluruh kuadrat dari selisih data dan rata-rata\n",
    "jumlah_selisih_rerata_kuadrat=0\n",
    "for i in nilaiTugas:\n",
    "    selisih = i - rerata\n",
    "    kuadrat = selisih**2\n",
    "jumlah_selisih_rerata_kuadrat=jumlah_selisih_rerata_kuadrat+kuadrat\n",
    "\n",
    "\n",
    "# 4. Hasil No 3 dibagi dengan (Jumlah Populasi - 1) atau Jumlah populasi ya?\n",
    "varian = jumlah_selisih_rerata_kuadrat / (jumlah_data - 1)\n",
    "\n",
    "\n",
    "# 5. Akar kan Hasilnya\n",
    "std = varian**(1/2)\n",
    "print(\"Standard Deviasinya adalah \", std)\n",
    "\n",
    "# maksimum\n",
    "\n",
    "maks=nilaiTugas[0]\n",
    "for i in nilaiTugas:\n",
    "    if i> maks:\n",
    "        maks=i\n",
    "print ('Nilai maksimumnya adalah',maks)\n",
    "\n",
    "# minimum\n",
    "\n",
    "mini=nilaiTugas[0]\n",
    "for i in nilaiTugas:\n",
    "    if i< mini:\n",
    "        mini=i\n",
    "print ('Nilai minimumnya adalah',mini)\n",
    "# modus"
   ]
  },
  {
   "cell_type": "code",
   "execution_count": 28,
   "metadata": {},
   "outputs": [
    {
     "name": "stdout",
     "output_type": "stream",
     "text": [
      "[98, 66, 48, 80, 76, 59, 17, 98, 2, 47, 92, 65, 23, 29, 75, 78, 86, 11, 37, 99, 56, 52, 38, 1, 93, 72, 56, 24, 22, 91, 63, 48, 79, 4, 14, 90, 13, 64, 85, 82, 57, 98, 55, 28, 1, 97, 27, 72, 23, 71, 40, 54, 58, 31, 24, 90, 52, 38, 5, 65, 23, 40, 16, 13, 99, 17, 7, 50, 4, 95, 24, 22, 47, 52, 10, 34, 9, 20, 37, 28, 5, 30, 18, 19, 40, 91, 77, 86, 17, 20, 62, 81, 31, 32, 23, 67, 80, 58, 92, 88, 63, 94, 19, 20, 88, 38, 3, 65, 75, 25, 92, 31, 50, 98, 42, 19, 92, 76, 4, 22, 26, 51, 46, 9, 95, 92, 18, 70, 2, 42, 25, 53, 29, 61, 49, 22, 23, 56, 76, 90, 30, 50, 26, 7, 77, 99, 12, 88, 71, 64, 53, 43, 95, 97, 89, 28, 38, 98, 13, 56, 95, 39, 4, 13, 25, 38, 26, 61, 42, 26, 87, 41, 55, 73, 20, 57, 89, 44, 13, 24, 15, 74, 91, 12, 46, 88, 84, 75, 91, 89, 72, 64, 66, 10, 80, 79, 21, 20, 50, 4, 9, 25, 49, 28, 71, 16, 25, 58, 93, 91, 97, 68, 51, 81, 2, 65, 52, 96, 86, 35, 10, 78, 3, 5, 87, 58, 37, 30, 20, 40, 70, 44, 86, 92, 98, 99, 65, 40, 85, 45, 81, 79, 57, 83, 25, 54, 23, 60, 41, 91]\n"
     ]
    }
   ],
   "source": [
    "\n",
    "#GENERATE RANDOM\n",
    "import random\n",
    "\n",
    "\n",
    "nilaiTugas = []\n",
    "for i in range(250):\n",
    "    nilaiTugas.append(random.randrange(1,100,1))\n",
    "\n",
    "print(nilaiTugas)"
   ]
  },
  {
   "cell_type": "markdown",
   "metadata": {},
   "source": [
    "  1. Tampilkan Angka Ganjil dari ke 250 nilai tersebut"
   ]
  },
  {
   "cell_type": "code",
   "execution_count": 32,
   "metadata": {
    "scrolled": true
   },
   "outputs": [
    {
     "name": "stdout",
     "output_type": "stream",
     "text": [
      "Nilai Ganjil dalam barisan tersebut adalah  [59, 17, 47, 65, 23, 29, 75, 11, 37, 99, 1, 93, 91, 63, 79, 13, 85, 57, 55, 1, 97, 27, 23, 71, 31, 5, 65, 23, 13, 99, 17, 7, 95, 47, 9, 37, 5, 19, 91, 77, 17, 81, 31, 23, 67, 63, 19, 3, 65, 75, 25, 31, 19, 51, 9, 95, 25, 53, 29, 61, 49, 23, 7, 77, 99, 71, 53, 43, 95, 97, 89, 13, 95, 39, 13, 25, 61, 87, 41, 55, 73, 57, 89, 13, 15, 91, 75, 91, 89, 79, 21, 9, 25, 49, 71, 25, 93, 91, 97, 51, 81, 65, 35, 3, 5, 87, 37, 99, 65, 85, 45, 81, 79, 57, 83, 25, 23, 41, 91]\n"
     ]
    }
   ],
   "source": [
    "# ganjil\n",
    "nilai_ganjil=[]\n",
    "for i in nilaiTugas:\n",
    "    if i%2!=0:\n",
    "        nilai_ganjil.append(i)\n",
    "print('Nilai Ganjil dalam barisan tersebut adalah ', nilai_ganjil)"
   ]
  },
  {
   "cell_type": "markdown",
   "metadata": {},
   "source": [
    "2. Tampilkan berapa banyak yang mendapatkan nilai lebih dari 70"
   ]
  },
  {
   "cell_type": "code",
   "execution_count": 31,
   "metadata": {},
   "outputs": [
    {
     "name": "stdout",
     "output_type": "stream",
     "text": [
      "Nilai yang lebih dari 70 adalah sebanyak 81\n"
     ]
    }
   ],
   "source": [
    "# nilai > 70\n",
    "\n",
    "banyak=0\n",
    "for i in nilaiTugas:\n",
    "    if i>70:\n",
    "        banyak = banyak+1\n",
    "print('Nilai yang lebih dari 70 adalah sebanyak',banyak)"
   ]
  },
  {
   "cell_type": "markdown",
   "metadata": {},
   "source": [
    "3. Tampilkan standar deviasi dari sekumpulan nilai tersebut"
   ]
  },
  {
   "cell_type": "code",
   "execution_count": 33,
   "metadata": {},
   "outputs": [
    {
     "name": "stdout",
     "output_type": "stream",
     "text": [
      "Standard Deviasinya adalah  2.528557217070636\n"
     ]
    }
   ],
   "source": [
    "# standar deviasi\n",
    "\n",
    "total = 0\n",
    "jumlah_data = len(nilaiTugas)\n",
    "for i in nilaiTugas:\n",
    "    total = total + float(i)\n",
    "rerata = total / jumlah_data\n",
    "\n",
    "jumlah_selisih_rerata_kuadrat=0\n",
    "for i in nilaiTugas:\n",
    "    selisih = i - rerata\n",
    "    kuadrat = selisih**2\n",
    "jumlah_selisih_rerata_kuadrat=jumlah_selisih_rerata_kuadrat+kuadrat\n",
    "\n",
    "varian = jumlah_selisih_rerata_kuadrat / (jumlah_data)\n",
    "std = varian**(1/2)\n",
    "print(\"Standard Deviasinya adalah \", std)"
   ]
  },
  {
   "cell_type": "markdown",
   "metadata": {},
   "source": [
    "4. Tampilkan nilai maksimum dan minimum"
   ]
  },
  {
   "cell_type": "code",
   "execution_count": 37,
   "metadata": {},
   "outputs": [
    {
     "name": "stdout",
     "output_type": "stream",
     "text": [
      "Nilai maksimumnya adalah 99 dan nilai minimumnya adalah 1\n"
     ]
    }
   ],
   "source": [
    "# maksimum\n",
    "\n",
    "maks=nilaiTugas[0]\n",
    "for i in nilaiTugas:\n",
    "    if i> maks:\n",
    "        maks=i\n",
    "\n",
    "# minimum\n",
    "\n",
    "mini=nilaiTugas[0]\n",
    "for i in nilaiTugas:\n",
    "    if i< mini:\n",
    "        mini=i\n",
    "print ('Nilai maksimumnya adalah',maks,'dan nilai minimumnya adalah',mini)"
   ]
  },
  {
   "cell_type": "markdown",
   "metadata": {},
   "source": [
    "5. Tampilkan modus dari sekumpulan nilai tersebut"
   ]
  },
  {
   "cell_type": "code",
   "execution_count": 40,
   "metadata": {},
   "outputs": [
    {
     "name": "stdout",
     "output_type": "stream",
     "text": [
      "{'barcelona': 2, 'berhasil': 1, 'merebut': 1, 'posisi': 1, 'puncak': 1, 'klasemen': 1, 'la': 1, 'liga': 1, 'spanyol': 1, 'seusai': 1, 'menang': 1, '4-2': 1, 'atas': 1, 'sevilla': 1, 'pada': 3, 'pertandingan': 1, 'pekan': 1, 'kesembilan': 1, 'di': 1, 'stadion': 1, 'camp': 1, 'nou,': 1, 'sabtu': 1, '(20/10/2018)': 1, 'atau': 1, 'minggu': 1, 'dini': 1, 'hari': 1, 'wib.': 1, 'membuka': 1, 'keunggulan': 2, 'menit': 3, 'ke-2': 1, 'melalui': 1, 'gol': 1, 'yang': 1, 'dicetak': 1, 'oleh': 1, 'philippe': 1, 'coutinho.': 1, 'lionel': 1, 'messi': 2, 'menggandakan': 1, 'barcelona,': 2, '10': 1, 'berselang.': 1, 'namun,': 1, 'nahas': 1, 'bagi': 1, 'karena': 1, 'harus': 1, 'ditarik': 1, 'keluar': 1, 'ke-26': 1, 'setelah': 1, 'mengalami': 1, 'cedera.': 1, 'tanpa': 1, 'messi,': 1, 'skor': 1, '2-0': 1, 'bertahan': 1, 'hingga': 1, 'babak': 1, 'pertama': 1, 'berakhir.': 1}\n"
     ]
    }
   ],
   "source": [
    "#Tugas Word Count\n",
    "\n",
    "paragraf = \"Barcelona berhasil merebut posisi puncak klasemen La Liga Spanyol seusai menang 4-2 atas Sevilla pada pertandingan pekan kesembilan di Stadion Camp Nou, Sabtu (20/10/2018) atau Minggu dini hari WIB. Barcelona membuka keunggulan pada menit ke-2 melalui gol yang dicetak oleh Philippe Coutinho. Lionel Messi menggandakan keunggulan Barcelona, 10 menit berselang.  Namun, nahas bagi Barcelona, karena Messi harus ditarik keluar pada menit ke-26 setelah mengalami cedera. Tanpa Messi, skor 2-0 bertahan hingga babak pertama berakhir.\"\n",
    "\n",
    "my_string = paragraf.lower().split()\n",
    "my_dict = {}\n",
    "for item in my_string:\n",
    "    if item in my_dict:\n",
    "        my_dict[item]= my_dict[item]+1\n",
    "    else:\n",
    "        my_dict[item] = 1\n",
    "print(my_dict)"
   ]
  },
  {
   "cell_type": "code",
   "execution_count": 46,
   "metadata": {},
   "outputs": [
    {
     "name": "stdout",
     "output_type": "stream",
     "text": [
      "Barcelona berhasil merebut posisi puncak klasemen La Liga Spanyol seusai menang 4-2 atas Sevilla pada pertandingan pekan kesembilan di Stadion Camp Nou, Sabtu (20/10/2018) atau Minggu dini hari WIB. Barcelona membuka keunggulan pada menit ke-2 melalui gol yang dicetak oleh Philippe Coutinho. Lionel Messi menggandakan keunggulan Barcelona, 10 menit berselang.  Namun, nahas bagi Barcelona, karena Messi harus ditarik keluar pada menit ke-26 setelah mengalami cedera. Tanpa Messi, skor 2-0 bertahan hingga babak pertama berakhir.\n"
     ]
    }
   ],
   "source": [
    "paragraf = \"Barcelona berhasil merebut posisi puncak klasemen La Liga Spanyol seusai menang 4-2 atas Sevilla pada pertandingan pekan kesembilan di Stadion Camp Nou, Sabtu (20/10/2018) atau Minggu dini hari WIB. Barcelona membuka keunggulan pada menit ke-2 melalui gol yang dicetak oleh Philippe Coutinho. Lionel Messi menggandakan keunggulan Barcelona, 10 menit berselang.  Namun, nahas bagi Barcelona, karena Messi harus ditarik keluar pada menit ke-26 setelah mengalami cedera. Tanpa Messi, skor 2-0 bertahan hingga babak pertama berakhir.\"\n",
    "print(paragraf)"
   ]
  },
  {
   "cell_type": "code",
   "execution_count": 48,
   "metadata": {},
   "outputs": [
    {
     "name": "stdout",
     "output_type": "stream",
     "text": [
      "['barcelona', 'berhasil', 'merebut', 'posisi', 'puncak', 'klasemen', 'la', 'liga', 'spanyol', 'seusai', 'menang', '4', '2', 'atas', 'sevilla', 'pada', 'pertandingan', 'pekan', 'kesembilan', 'di', 'stadion', 'camp', 'nou', 'sabtu', '20', '10', '2018', 'atau', 'minggu', 'dini', 'hari', 'wib', 'barcelona', 'membuka', 'keunggulan', 'pada', 'menit', 'ke', '2', 'melalui', 'gol', 'yang', 'dicetak', 'oleh', 'philippe', 'coutinho', 'lionel', 'messi', 'menggandakan', 'keunggulan', 'barcelona', '10', 'menit', 'berselang', 'namun', 'nahas', 'bagi', 'barcelona', 'karena', 'messi', 'harus', 'ditarik', 'keluar', 'pada', 'menit', 'ke', '26', 'setelah', 'mengalami', 'cedera', 'tanpa', 'messi', 'skor', '2', '0', 'bertahan', 'hingga', 'babak', 'pertama', 'berakhir']\n"
     ]
    }
   ],
   "source": [
    "\n",
    "#menjadikan tulisan pada paragraf tersebut menjadi huruf kecil semua\n",
    "hurufkecil = paragraf.lower()\n",
    "\n",
    "#menghapus karakter titik dalam paragraf\n",
    "titik = hurufkecil.replace('.',' ')\n",
    "\n",
    "#menghapus karakter koma dalam paragraf\n",
    "koma = titik.replace(',', ' ')\n",
    "\n",
    "#menghapus karakter garis miring dalam paragraf\n",
    "garing = koma.replace('/', ' ')\n",
    "\n",
    "#menghapus karakter kurung buka dalam paragraf\n",
    "kurungb = garing.replace('(', ' ')\n",
    "\n",
    "#menghapus kurung tutup dalam paragraf\n",
    "kurungt = kurungb.replace(')',' ')\n",
    "\n",
    "#menghapus karakter dash dalam paragraf\n",
    "strip = kurungt.replace('-',' ')\n",
    "\n",
    "\n",
    "#memisahkan tiap kata (tokenizing) dalam paragraf\n",
    "splitkata = strip.split()\n",
    "\n",
    "#menampilkan hasil akhir pemisahan menjadi per kata\n",
    "print(splitkata)"
   ]
  },
  {
   "cell_type": "code",
   "execution_count": 49,
   "metadata": {},
   "outputs": [
    {
     "name": "stdout",
     "output_type": "stream",
     "text": [
      "Jumlah Kata:\n",
      "barcelona-> 4\n",
      "berhasil-> 1\n",
      "merebut-> 1\n",
      "posisi-> 1\n",
      "puncak-> 1\n",
      "klasemen-> 1\n",
      "la-> 1\n",
      "liga-> 1\n",
      "spanyol-> 1\n",
      "seusai-> 1\n",
      "menang-> 1\n",
      "4-> 1\n",
      "2-> 3\n",
      "atas-> 1\n",
      "sevilla-> 1\n",
      "pada-> 3\n",
      "pertandingan-> 1\n",
      "pekan-> 1\n",
      "kesembilan-> 1\n",
      "di-> 1\n",
      "stadion-> 1\n",
      "camp-> 1\n",
      "nou-> 1\n",
      "sabtu-> 1\n",
      "20-> 1\n",
      "10-> 2\n",
      "2018-> 1\n",
      "atau-> 1\n",
      "minggu-> 1\n",
      "dini-> 1\n",
      "hari-> 1\n",
      "wib-> 1\n",
      "membuka-> 1\n",
      "keunggulan-> 2\n",
      "menit-> 3\n",
      "ke-> 2\n",
      "melalui-> 1\n",
      "gol-> 1\n",
      "yang-> 1\n",
      "dicetak-> 1\n",
      "oleh-> 1\n",
      "philippe-> 1\n",
      "coutinho-> 1\n",
      "lionel-> 1\n",
      "messi-> 3\n",
      "menggandakan-> 1\n",
      "berselang-> 1\n",
      "namun-> 1\n",
      "nahas-> 1\n",
      "bagi-> 1\n",
      "karena-> 1\n",
      "harus-> 1\n",
      "ditarik-> 1\n",
      "keluar-> 1\n",
      "26-> 1\n",
      "setelah-> 1\n",
      "mengalami-> 1\n",
      "cedera-> 1\n",
      "tanpa-> 1\n",
      "skor-> 1\n",
      "0-> 1\n",
      "bertahan-> 1\n",
      "hingga-> 1\n",
      "babak-> 1\n",
      "pertama-> 1\n",
      "berakhir-> 1\n"
     ]
    }
   ],
   "source": [
    "dict1={}\n",
    "for i in splitkata:\n",
    "    if i in dict1:\n",
    "        dict1[i]=dict1[i]+1\n",
    "    else:\n",
    "        dict1[i]=1\n",
    "\n",
    "print('Jumlah Kata:')\n",
    "for kata,jmlh in dict1.items():\n",
    "    print(kata+'->',jmlh)"
   ]
  },
  {
   "cell_type": "code",
   "execution_count": null,
   "metadata": {},
   "outputs": [],
   "source": []
  }
 ],
 "metadata": {
  "kernelspec": {
   "display_name": "Python 3",
   "language": "python",
   "name": "python3"
  },
  "language_info": {
   "codemirror_mode": {
    "name": "ipython",
    "version": 3
   },
   "file_extension": ".py",
   "mimetype": "text/x-python",
   "name": "python",
   "nbconvert_exporter": "python",
   "pygments_lexer": "ipython3",
   "version": "3.7.0"
  }
 },
 "nbformat": 4,
 "nbformat_minor": 2
}
