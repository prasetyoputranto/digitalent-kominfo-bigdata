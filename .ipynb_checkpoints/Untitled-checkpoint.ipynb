{
 "cells": [
  {
   "cell_type": "markdown",
   "metadata": {},
   "source": [
    "# 1. Perulangan"
   ]
  },
  {
   "cell_type": "code",
   "execution_count": 1,
   "metadata": {},
   "outputs": [
    {
     "name": "stdout",
     "output_type": "stream",
     "text": [
      "0\n"
     ]
    }
   ],
   "source": [
    "#SINTAKS FOR\n",
    "for i in range (0,1):\n",
    "    print(i)"
   ]
  },
  {
   "cell_type": "code",
   "execution_count": 2,
   "metadata": {},
   "outputs": [
    {
     "name": "stdout",
     "output_type": "stream",
     "text": [
      "0\n",
      "1\n",
      "2\n",
      "3\n"
     ]
    }
   ],
   "source": [
    "#SINTAKS FOR\n",
    "for i in range (0,4):\n",
    "    print(i)"
   ]
  },
  {
   "cell_type": "code",
   "execution_count": 3,
   "metadata": {},
   "outputs": [
    {
     "name": "stdout",
     "output_type": "stream",
     "text": [
      "1\n",
      "2\n",
      "3\n"
     ]
    }
   ],
   "source": [
    "#SINTAKS FOR\n",
    "for i in range (1,4):\n",
    "    print(i)"
   ]
  },
  {
   "cell_type": "code",
   "execution_count": 4,
   "metadata": {},
   "outputs": [
    {
     "name": "stdout",
     "output_type": "stream",
     "text": [
      "0\n",
      "1\n",
      "8\n",
      "27\n"
     ]
    }
   ],
   "source": [
    "#SINTAKS FOR\n",
    "for i in range (0,4):\n",
    "    print(i**3)"
   ]
  },
  {
   "cell_type": "code",
   "execution_count": 5,
   "metadata": {},
   "outputs": [
    {
     "name": "stdout",
     "output_type": "stream",
     "text": [
      "0\n",
      "3\n",
      "6\n",
      "9\n"
     ]
    }
   ],
   "source": [
    "#SINTAKS WHILE\n",
    "i=0\n",
    "while i<10:\n",
    "    print(i)\n",
    "    i=i+3"
   ]
  },
  {
   "cell_type": "code",
   "execution_count": 6,
   "metadata": {},
   "outputs": [
    {
     "name": "stdout",
     "output_type": "stream",
     "text": [
      "0 0\n",
      "2 4\n",
      "4 16\n",
      "6 36\n",
      "8 64\n"
     ]
    }
   ],
   "source": [
    "#SINTAKS FOR\n",
    "for j in range(0,10,2):\n",
    "    print(j,j**2)"
   ]
  },
  {
   "cell_type": "markdown",
   "metadata": {},
   "source": [
    "# 2. List"
   ]
  },
  {
   "cell_type": "code",
   "execution_count": 7,
   "metadata": {},
   "outputs": [
    {
     "name": "stdout",
     "output_type": "stream",
     "text": [
      "[30, 40, 50.6, 70, 80, 90]\n",
      "['bunga', 2.5, 16]\n"
     ]
    }
   ],
   "source": [
    "#Deklarasi List\n",
    "\n",
    "#Dapat berisi angka\n",
    "nilai = [30,40,50.60,70,80,90]\n",
    "print(nilai)\n",
    "\n",
    "#dapat berisi string\n",
    "peserta=['Ani', 'Budi']\n",
    "\n",
    "#dapat juga campuran\n",
    "campuran=['bunga', 2.5, 16]\n",
    "print(campuran)"
   ]
  },
  {
   "cell_type": "code",
   "execution_count": 8,
   "metadata": {},
   "outputs": [],
   "source": [
    "nilai = [30,40,50,60,70,80,90]"
   ]
  },
  {
   "cell_type": "code",
   "execution_count": 9,
   "metadata": {},
   "outputs": [
    {
     "ename": "TypeError",
     "evalue": "'builtin_function_or_method' object is not subscriptable",
     "output_type": "error",
     "traceback": [
      "\u001b[1;31m---------------------------------------------------------------------------\u001b[0m",
      "\u001b[1;31mTypeError\u001b[0m                                 Traceback (most recent call last)",
      "\u001b[1;32m<ipython-input-9-ec93ff7727a6>\u001b[0m in \u001b[0;36m<module>\u001b[1;34m()\u001b[0m\n\u001b[0;32m      1\u001b[0m \u001b[0mnilai\u001b[0m \u001b[1;33m=\u001b[0m \u001b[1;33m[\u001b[0m\u001b[1;36m30\u001b[0m\u001b[1;33m,\u001b[0m\u001b[1;36m40\u001b[0m\u001b[1;33m,\u001b[0m\u001b[1;36m50\u001b[0m\u001b[1;33m,\u001b[0m\u001b[1;36m60\u001b[0m\u001b[1;33m,\u001b[0m\u001b[1;36m70\u001b[0m\u001b[1;33m,\u001b[0m\u001b[1;36m80\u001b[0m\u001b[1;33m,\u001b[0m\u001b[1;36m90\u001b[0m\u001b[1;33m]\u001b[0m\u001b[1;33m\u001b[0m\u001b[0m\n\u001b[1;32m----> 2\u001b[1;33m \u001b[0mprint\u001b[0m\u001b[1;33m[\u001b[0m\u001b[1;36m0\u001b[0m\u001b[1;33m]\u001b[0m\u001b[1;33m\u001b[0m\u001b[0m\n\u001b[0m\u001b[0;32m      3\u001b[0m \u001b[0mprint\u001b[0m\u001b[1;33m[\u001b[0m\u001b[1;36m3\u001b[0m\u001b[1;33m]\u001b[0m\u001b[1;33m\u001b[0m\u001b[0m\n\u001b[0;32m      4\u001b[0m \u001b[0mprint\u001b[0m\u001b[1;33m[\u001b[0m\u001b[1;33m-\u001b[0m\u001b[1;36m1\u001b[0m\u001b[1;33m]\u001b[0m\u001b[1;33m\u001b[0m\u001b[0m\n\u001b[0;32m      5\u001b[0m \u001b[0mprint\u001b[0m\u001b[1;33m[\u001b[0m\u001b[1;33m-\u001b[0m\u001b[1;36m3\u001b[0m\u001b[1;33m]\u001b[0m\u001b[1;33m\u001b[0m\u001b[0m\n",
      "\u001b[1;31mTypeError\u001b[0m: 'builtin_function_or_method' object is not subscriptable"
     ]
    }
   ],
   "source": [
    "nilai = [30,40,50,60,70,80,90]\n",
    "print[0]\n",
    "print[3]\n",
    "print[-1]\n",
    "print[-3]"
   ]
  },
  {
   "cell_type": "code",
   "execution_count": 10,
   "metadata": {},
   "outputs": [
    {
     "name": "stdout",
     "output_type": "stream",
     "text": [
      "30\n"
     ]
    }
   ],
   "source": [
    "nilai = [30,40,50,60,70,80,90]\n",
    "print(nilai[0])\n"
   ]
  },
  {
   "cell_type": "code",
   "execution_count": 11,
   "metadata": {},
   "outputs": [
    {
     "name": "stdout",
     "output_type": "stream",
     "text": [
      "30\n",
      "60\n",
      "90\n"
     ]
    }
   ],
   "source": [
    "nilai = [30,40,50,60,70,80,90]\n",
    "print(nilai[0])\n",
    "print(nilai[3])\n",
    "print(nilai[-1])"
   ]
  },
  {
   "cell_type": "code",
   "execution_count": 14,
   "metadata": {},
   "outputs": [
    {
     "name": "stdout",
     "output_type": "stream",
     "text": [
      "[30, 40, 50, 60, 70, 80, 90, 10, 20, 10, 20, 10, 20]\n"
     ]
    }
   ],
   "source": [
    "nilai.append(10)\n",
    "nilai.append(20)\n",
    "print(nilai)\n",
    "#append untuk nambahin nilai ke list yang udah ada\n"
   ]
  },
  {
   "cell_type": "code",
   "execution_count": 16,
   "metadata": {},
   "outputs": [
    {
     "name": "stdout",
     "output_type": "stream",
     "text": [
      "[30, 40, 50, 60, 70, 80, 90, 10, 20, 10, 20, 10, 20, 90, 10, 20, 30, 40, 90, 10, 20, 30, 40]\n"
     ]
    }
   ],
   "source": [
    "nilai.append(90)\n",
    "nilai.extend([10,20,30,40])\n",
    "#extend untuk nambahi list dalam list\n",
    "print(nilai)"
   ]
  },
  {
   "cell_type": "code",
   "execution_count": 20,
   "metadata": {},
   "outputs": [
    {
     "name": "stdout",
     "output_type": "stream",
     "text": [
      "[40, 50, 60, 70, 80, 90, 10, 20, 10, 20, 10, 20, 90, 10, 20, 30, 40, 90, 10]\n"
     ]
    }
   ],
   "source": [
    "del nilai[-1]\n",
    "print(nilai)"
   ]
  },
  {
   "cell_type": "code",
   "execution_count": 21,
   "metadata": {},
   "outputs": [
    {
     "name": "stdout",
     "output_type": "stream",
     "text": [
      "[50, 60, 70, 80, 90, 10, 20, 10, 20, 10, 20, 90, 10, 20, 30, 40, 90, 10]\n"
     ]
    }
   ],
   "source": [
    "del nilai[0]\n",
    "print(nilai)"
   ]
  },
  {
   "cell_type": "code",
   "execution_count": 22,
   "metadata": {},
   "outputs": [
    {
     "name": "stdout",
     "output_type": "stream",
     "text": [
      "[50, 60, 70, 80, 90, 10, 20, 10, 20, 10, 20, 90, 10, 20, 30, 40, 90, 10]\n"
     ]
    }
   ],
   "source": [
    "print(nilai)"
   ]
  },
  {
   "cell_type": "code",
   "execution_count": 23,
   "metadata": {},
   "outputs": [
    {
     "name": "stdout",
     "output_type": "stream",
     "text": [
      "[60, 70, 80, 90, 10, 20, 10, 20, 10, 20, 90, 10, 20, 30, 40, 90, 10]\n"
     ]
    }
   ],
   "source": [
    "del nilai[0]\n",
    "print(nilai)"
   ]
  },
  {
   "cell_type": "code",
   "execution_count": 24,
   "metadata": {},
   "outputs": [
    {
     "name": "stdout",
     "output_type": "stream",
     "text": [
      "[60, 70, 80, 90, 10, 20, 10, 20, 10, 20, 90, 10, 20, 30, 40, 90]\n"
     ]
    }
   ],
   "source": [
    "del nilai[-1]\n",
    "print(nilai)"
   ]
  },
  {
   "cell_type": "markdown",
   "metadata": {},
   "source": [
    "# 3. Slicing List"
   ]
  },
  {
   "cell_type": "code",
   "execution_count": 27,
   "metadata": {},
   "outputs": [
    {
     "name": "stdout",
     "output_type": "stream",
     "text": [
      "[60, 70, 80, 90, 10, 20, 10, 20, 10, 20, 90, 10, 20, 30, 40, 90]\n",
      "[80, 90, 10]\n",
      "[60, 70, 80, 90, 10, 20, 10, 20, 10, 20, 90, 10, 20, 30]\n",
      "[20, 10, 20, 10, 20, 90, 10, 20, 30, 40, 90]\n",
      "[60, 70, 80, 90, 10, 20, 10, 20, 10, 20, 90, 10, 20, 30, 40, 90]\n"
     ]
    }
   ],
   "source": [
    "print(nilai)\n",
    "\n",
    "#elemen ke-3 sampe 5 ditampilkan\n",
    "print(nilai[2:5])\n",
    "\n",
    "#elemen dari awal hingga ke-3 terakhir ditampilkan, 2 elemen terakhir dihapus\n",
    "print(nilai[:-2])\n",
    "\n",
    "#elemen ke-6 hingga terakhir ditampilkan\n",
    "print(nilai[5:])\n",
    "\n",
    "#semua elemen ditampilkan\n",
    "print(nilai[:])"
   ]
  },
  {
   "cell_type": "markdown",
   "metadata": {},
   "source": [
    "# 4. Perulangan dalam List"
   ]
  },
  {
   "cell_type": "code",
   "execution_count": 31,
   "metadata": {},
   "outputs": [
    {
     "name": "stdout",
     "output_type": "stream",
     "text": [
      "60\n",
      "70\n",
      "80\n",
      "90\n",
      "10\n",
      "20\n",
      "10\n",
      "20\n",
      "10\n",
      "20\n",
      "90\n",
      "10\n",
      "20\n",
      "30\n",
      "40\n",
      "90\n",
      "0 60\n",
      "1 70\n",
      "2 80\n",
      "3 90\n",
      "4 10\n",
      "5 20\n",
      "6 10\n",
      "7 20\n",
      "8 10\n",
      "9 20\n",
      "10 90\n",
      "11 10\n",
      "12 20\n",
      "13 30\n",
      "14 40\n",
      "15 90\n"
     ]
    }
   ],
   "source": [
    "for n in nilai:\n",
    "    print(n)\n",
    "\n",
    "#mengikutkan indeksnya\n",
    "for i,n in enumerate(nilai):\n",
    "    print(i,n)"
   ]
  },
  {
   "cell_type": "code",
   "execution_count": 33,
   "metadata": {},
   "outputs": [
    {
     "name": "stdout",
     "output_type": "stream",
     "text": [
      "60.0\n"
     ]
    }
   ],
   "source": [
    "#Algoritma rerata\n",
    "nilai=[30,40,50,60,70,80,90]\n",
    "total=0\n",
    "for n in nilai:\n",
    "    total=total+n\n",
    "\n",
    "#fungsi len untuk melihat jumlah populasi dalam nilai\n",
    "rata=total/len(nilai)\n",
    "print(rata)"
   ]
  },
  {
   "cell_type": "markdown",
   "metadata": {},
   "source": [
    "# 5. Lookup nilai dalam list"
   ]
  },
  {
   "cell_type": "code",
   "execution_count": 38,
   "metadata": {},
   "outputs": [
    {
     "name": "stdout",
     "output_type": "stream",
     "text": [
      "90 ada dalam list\n"
     ]
    }
   ],
   "source": [
    "n=90\n",
    "if n in nilai:\n",
    "    print(n,\"ada dalam list\")\n",
    "else:\n",
    "    print(n,\"tidak ada dalam list\")"
   ]
  },
  {
   "cell_type": "code",
   "execution_count": 39,
   "metadata": {},
   "outputs": [
    {
     "name": "stdout",
     "output_type": "stream",
     "text": [
      "92 tidak ada dalam list\n"
     ]
    }
   ],
   "source": [
    "n=92\n",
    "if n in nilai:\n",
    "    print(n,\"ada dalam list\")\n",
    "else:\n",
    "    print(n,\"tidak ada dalam list\")"
   ]
  },
  {
   "cell_type": "markdown",
   "metadata": {},
   "source": [
    "## 2.5 Latihan\n",
    "\n",
    "Tampilkan nilai dari list yg lebih dari sama dengan\n",
    "\n",
    "tugas=['66','77','88','99','55','54']\n",
    "Tampilkan nilai dari list tugas yang genap"
   ]
  },
  {
   "cell_type": "code",
   "execution_count": 41,
   "metadata": {},
   "outputs": [
    {
     "name": "stdout",
     "output_type": "stream",
     "text": [
      "0\n"
     ]
    }
   ],
   "source": [
    "a=6%2\n",
    "print(a)"
   ]
  },
  {
   "cell_type": "code",
   "execution_count": 43,
   "metadata": {},
   "outputs": [
    {
     "name": "stdout",
     "output_type": "stream",
     "text": [
      "66\n",
      "88\n",
      "54\n"
     ]
    }
   ],
   "source": [
    "tugas=[66,77,88,99,55,54]\n",
    "\n",
    "#untung menampilkan genap\n",
    "for i in tugas:\n",
    "    if i%2==0:\n",
    "        print(i)"
   ]
  },
  {
   "cell_type": "code",
   "execution_count": 44,
   "metadata": {},
   "outputs": [
    {
     "name": "stdout",
     "output_type": "stream",
     "text": [
      "77\n",
      "99\n",
      "55\n"
     ]
    }
   ],
   "source": [
    "tugas=[66,77,88,99,55,54]\n",
    "\n",
    "#untuk menampilkan ganjil\n",
    "for i in tugas:\n",
    "    if i%2!=0:\n",
    "        print(i)"
   ]
  },
  {
   "cell_type": "code",
   "execution_count": 45,
   "metadata": {},
   "outputs": [
    {
     "name": "stdout",
     "output_type": "stream",
     "text": [
      "66\n",
      "-\n",
      "-\n",
      "88\n",
      "-\n",
      "-\n",
      "-\n",
      "54\n",
      "-\n"
     ]
    }
   ],
   "source": [
    "tugas=[66,77,88,99,55,54]\n",
    "\n",
    "#untung menampilkan genap\n",
    "for i in tugas:\n",
    "    if i%2==0:\n",
    "        print(i)\n",
    "    print(\"-\")"
   ]
  },
  {
   "cell_type": "code",
   "execution_count": 46,
   "metadata": {},
   "outputs": [
    {
     "name": "stdout",
     "output_type": "stream",
     "text": [
      "66\n",
      "88\n",
      "54\n",
      "-\n"
     ]
    }
   ],
   "source": [
    "tugas=[66,77,88,99,55,54]\n",
    "\n",
    "#untung menampilkan genap\n",
    "for i in tugas:\n",
    "    if i%2==0:\n",
    "        print(i)\n",
    "print(\"-\")"
   ]
  },
  {
   "cell_type": "code",
   "execution_count": 47,
   "metadata": {},
   "outputs": [
    {
     "name": "stdout",
     "output_type": "stream",
     "text": [
      "66\n",
      "-\n",
      "88\n",
      "-\n",
      "54\n",
      "-\n"
     ]
    }
   ],
   "source": [
    "tugas=[66,77,88,99,55,54]\n",
    "\n",
    "#untung menampilkan genap\n",
    "for i in tugas:\n",
    "    if i%2==0:\n",
    "        print(i)\n",
    "        print(\"-\")"
   ]
  },
  {
   "cell_type": "markdown",
   "metadata": {},
   "source": [
    "# Tuple"
   ]
  },
  {
   "cell_type": "code",
   "execution_count": null,
   "metadata": {},
   "outputs": [],
   "source": [
    "#Deklarasi tuple pada dasarnya cara akses elemennya kayak list yg isinya angka"
   ]
  },
  {
   "cell_type": "code",
   "execution_count": 59,
   "metadata": {},
   "outputs": [
    {
     "name": "stdout",
     "output_type": "stream",
     "text": [
      "{'Nama': 'Budi', 'Umur': 7, 'Jenis Kelamin': 'Laki-laki'}\n",
      "Budi\n",
      "[{'Nama': 'Budi', 'Umur': 7, 'Jenis Kelamin': 'Laki-laki'}, {'Nama': 'Ani', 'Umur': 8, 'Jenis Kelamin': 'Perempuan'}]\n",
      "{'Nama': 'Budi', 'Umur': 7, 'Jenis Kelamin': 'Laki-laki'}\n",
      "{'Nama': 'Ani', 'Umur': 8, 'Jenis Kelamin': 'Perempuan'}\n"
     ]
    }
   ],
   "source": [
    "siswa={'Nama':\"Budi\", 'Umur':7, 'Jenis Kelamin': 'Laki-laki'}\n",
    "siswa2={'Nama':\"Ani\", 'Umur':8, 'Jenis Kelamin': 'Perempuan'}\n",
    "print(siswa)\n",
    "print(siswa['Nama'])\n",
    "\n",
    "list_siswa=[]\n",
    "list_siswa.append(siswa)\n",
    "list_siswa.append(siswa2)\n",
    "\n",
    "print(list_siswa)\n",
    "print(list_siswa[0])\n",
    "print(list_siswa[1])\n"
   ]
  },
  {
   "cell_type": "code",
   "execution_count": 60,
   "metadata": {},
   "outputs": [
    {
     "name": "stdout",
     "output_type": "stream",
     "text": [
      "Nama Budi\n",
      "Umur 7\n",
      "Jenis Kelamin Laki-laki\n"
     ]
    }
   ],
   "source": [
    "for k,v in siswa.items():\n",
    "    print(k,v)"
   ]
  },
  {
   "cell_type": "code",
   "execution_count": 61,
   "metadata": {},
   "outputs": [
    {
     "name": "stdout",
     "output_type": "stream",
     "text": [
      "{'Nama': 'Deni', 'Umur': 7, 'Jenis Kelamin': 'Laki-laki'}\n"
     ]
    }
   ],
   "source": [
    "# mengubah nilai dictionary\n",
    "\n",
    "siswa['Nama']='Deni'\n",
    "print(siswa)"
   ]
  },
  {
   "cell_type": "code",
   "execution_count": 63,
   "metadata": {},
   "outputs": [
    {
     "name": "stdout",
     "output_type": "stream",
     "text": [
      "{'Nama': 'Deni', 'Umur': 7, 'Jenis Kelamin': 'Laki-laki', 'alamat': 'jl kaliurang'}\n"
     ]
    }
   ],
   "source": [
    "#menambahkan elemen\n",
    "\n",
    "siswa['alamat']=\"jl kaliurang\"\n",
    "print(siswa)"
   ]
  },
  {
   "cell_type": "code",
   "execution_count": 64,
   "metadata": {},
   "outputs": [
    {
     "name": "stdout",
     "output_type": "stream",
     "text": [
      "{'Nama': 'Deni', 'Umur': 7, 'Jenis Kelamin': 'Laki-laki', 'alamat': 'jl kaliurang', 'nilai': [30, 40, 50, 60, 70, 80, 90]}\n"
     ]
    }
   ],
   "source": [
    "siswa['nilai']=nilai\n",
    "print(siswa)"
   ]
  },
  {
   "cell_type": "code",
   "execution_count": 71,
   "metadata": {},
   "outputs": [
    {
     "name": "stdout",
     "output_type": "stream",
     "text": [
      "===========================\n",
      "Nama Deni\n",
      "Umur 7\n",
      "Jenis Kelamin Laki-laki\n",
      "alamat jl kaliurang\n",
      "nilai [30, 40, 50, 60, 70, 80, 90]\n",
      "===========================\n",
      "Nama Ani\n",
      "Umur 8\n",
      "Jenis Kelamin Perempuan\n"
     ]
    }
   ],
   "source": [
    "for l in list_siswa:\n",
    "    print(\"===========================\")\n",
    "    for k,v in l.items():\n",
    "        print(k,v)"
   ]
  },
  {
   "cell_type": "markdown",
   "metadata": {},
   "source": [
    "# 5. Operasi String"
   ]
  },
  {
   "cell_type": "code",
   "execution_count": 76,
   "metadata": {},
   "outputs": [
    {
     "name": "stdout",
     "output_type": "stream",
     "text": [
      "tutori\n",
      "ograman ph\n",
      "phyton\n",
      "tutorial bahasa pemrograman \n"
     ]
    }
   ],
   "source": [
    "nama=\"tutorial bahasa pemrograman phyton\"\n",
    "print(nama[0:6])\n",
    "print(nama[20:30])\n",
    "print(nama[-6:])\n",
    "print(nama[:-6])"
   ]
  },
  {
   "cell_type": "markdown",
   "metadata": {},
   "source": [
    "# mengubah string menjadi list kata"
   ]
  },
  {
   "cell_type": "code",
   "execution_count": 82,
   "metadata": {},
   "outputs": [
    {
     "name": "stdout",
     "output_type": "stream",
     "text": [
      "['tutorial', 'bahasa', 'pemrograman', 'phyton']\n",
      "phyton\n"
     ]
    }
   ],
   "source": [
    "kata=nama.split()\n",
    "print(kata)\n",
    "print(kata[-1])"
   ]
  },
  {
   "cell_type": "code",
   "execution_count": 90,
   "metadata": {},
   "outputs": [
    {
     "name": "stdout",
     "output_type": "stream",
     "text": [
      "['Pada hari minggu kuturut ayah ke kota', ' Naik delman istimewa kududuk di muka', ' Kududuk samping pak jkusir yg sedang bekerja']\n",
      "['Pada', 'hari', 'minggu', 'kuturut', 'ayah', 'ke', 'kota']\n",
      "['Naik', 'delman', 'istimewa', 'kududuk', 'di', 'muka']\n",
      "['Kududuk', 'samping', 'pak', 'jkusir', 'yg', 'sedang', 'bekerja']\n"
     ]
    }
   ],
   "source": [
    "paragraf=\"Pada hari minggu kuturut ayah ke kota. Naik delman istimewa kududuk di muka. Kududuk samping pak jkusir yg sedang bekerja\"\n",
    "kalimat=paragraf.split(\".\")\n",
    "print(kalimat)\n",
    "\n",
    "for k in kalimat:\n",
    "    print(k.split())\n"
   ]
  },
  {
   "cell_type": "code",
   "execution_count": 92,
   "metadata": {},
   "outputs": [
    {
     "name": "stdout",
     "output_type": "stream",
     "text": [
      "not found\n"
     ]
    }
   ],
   "source": [
    "#mencari kata dalam string\n",
    "\n",
    "cari='pythonn'\n",
    "if cari in nama:\n",
    "    print(\"found!\")\n",
    "else:\n",
    "    print(\"not found\")"
   ]
  },
  {
   "cell_type": "code",
   "execution_count": 97,
   "metadata": {},
   "outputs": [
    {
     "name": "stdout",
     "output_type": "stream",
     "text": [
      "not found\n",
      "not found\n",
      "not found\n"
     ]
    }
   ],
   "source": [
    "cari=['pythonn', 'java', 'c']\n",
    "for c in cari:\n",
    "    if c in nama:\n",
    "        print(\"found!\")\n",
    "    else:\n",
    "        print(\"not found\")"
   ]
  },
  {
   "cell_type": "code",
   "execution_count": 98,
   "metadata": {},
   "outputs": [
    {
     "name": "stdout",
     "output_type": "stream",
     "text": [
      "pada hari ini saya belajar\n"
     ]
    }
   ],
   "source": [
    "#replace string\n",
    "paragraf=\"pd hr ini saya bljr\"\n",
    "paragraf= paragraf.replace('pd','pada')\n",
    "paragraf= paragraf.replace('hr','hari')\n",
    "paragraf= paragraf.replace('bljr','belajar')\n",
    "print(paragraf)"
   ]
  },
  {
   "cell_type": "code",
   "execution_count": 100,
   "metadata": {},
   "outputs": [
    {
     "name": "stdout",
     "output_type": "stream",
     "text": [
      "34\n",
      "TUTORIAL BAHASA PEMROGRAMAN PHYTON\n",
      "tutorial bahasa pemrograman phyton\n"
     ]
    }
   ],
   "source": [
    "#panjang string, lowercase, uppercase\n",
    "\n",
    "print(len(nama))\n",
    "print(nama.upper())\n",
    "print(nama.lower())"
   ]
  },
  {
   "cell_type": "code",
   "execution_count": 103,
   "metadata": {},
   "outputs": [
    {
     "name": "stdout",
     "output_type": "stream",
     "text": [
      "[52, 2, 14, 10, 28, 92, 36, 91, 41, 66, 92, 52, 91, 2, 85, 60, 20, 38, 35, 41, 7, 36, 96, 12, 49, 85, 75, 77, 13, 60, 71, 61, 8, 88, 74, 38, 35, 54, 73, 55, 61, 93, 97, 81, 66, 53, 60, 91, 88, 56, 13, 49, 76, 26, 71, 3, 8, 74, 73, 14, 2, 9, 4, 41, 26, 58, 79, 11, 82, 30, 22, 72, 5, 73, 92, 83, 17, 44, 35, 40, 84, 5, 46, 48, 3, 2, 62, 44, 78, 32, 21, 48, 71, 58, 71, 42, 28, 70, 7, 24, 28, 63, 96, 92, 83, 6, 7, 47, 82, 93, 92, 48, 7, 96, 54, 16, 6, 15, 44, 76, 58, 75, 47, 97, 5, 32, 64, 80, 82, 42, 21, 26, 71, 1, 5, 43, 80, 56, 15, 41, 19, 19, 67, 16, 99, 95, 82, 53, 55, 34, 93, 9, 37, 87, 12, 7, 43, 80, 30, 7, 88, 20, 29, 40, 90, 2, 43, 26, 71, 38, 39, 66, 69, 21, 57, 87, 80, 43, 6, 28, 84, 89, 11, 11, 59, 12, 18, 62, 90, 12, 65, 99, 50, 2, 23, 91, 91, 45, 95, 21, 21, 46, 2, 25, 15, 98, 13, 33, 77, 72, 28, 50, 73, 3, 49, 47, 8, 60, 10, 46, 25, 78, 80, 52, 43, 48, 2, 14, 30, 68, 70, 8, 35, 12, 12, 55, 80, 98, 94, 72, 73, 79, 92, 2, 37, 39, 51, 84, 10, 19]\n"
     ]
    }
   ],
   "source": [
    "import random\n",
    "\n",
    "# GENERATE RANDOM\n",
    "nilaiTugas = []\n",
    "for i in range(250):\n",
    "    nilaiTugas.append(random.randrange(1,100,1))\n",
    "\n",
    "print(nilaiTugas)"
   ]
  },
  {
   "cell_type": "code",
   "execution_count": 104,
   "metadata": {},
   "outputs": [
    {
     "name": "stdout",
     "output_type": "stream",
     "text": [
      "Barcelona berhasil merebut posisi puncak klasemen La Liga Spanyol seusai menang 4-2 atas Sevilla pada pertandingan pekan kesembilan di Stadion Camp Nou, Sabtu (20/10/2018) atau Minggu dini hari WIB. Barcelona membuka keunggulan pada menit ke-2 melalui gol yang dicetak oleh Philippe Coutinho. Lionel Messi menggandakan keunggulan Barcelona, 10 menit berselang.  Namun, nahas bagi Barcelona, karena Messi harus ditarik keluar pada menit ke-26 setelah mengalami cedera. Tanpa Messi, skor 2-0 bertahan hingga babak pertama berakhir.\n"
     ]
    }
   ],
   "source": [
    "paragraf = \"Barcelona berhasil merebut posisi puncak klasemen La Liga Spanyol seusai menang 4-2 atas Sevilla pada pertandingan pekan kesembilan di Stadion Camp Nou, Sabtu (20/10/2018) atau Minggu dini hari WIB. Barcelona membuka keunggulan pada menit ke-2 melalui gol yang dicetak oleh Philippe Coutinho. Lionel Messi menggandakan keunggulan Barcelona, 10 menit berselang.  Namun, nahas bagi Barcelona, karena Messi harus ditarik keluar pada menit ke-26 setelah mengalami cedera. Tanpa Messi, skor 2-0 bertahan hingga babak pertama berakhir.\"\n",
    "print(paragraf)"
   ]
  },
  {
   "cell_type": "code",
   "execution_count": null,
   "metadata": {},
   "outputs": [],
   "source": []
  }
 ],
 "metadata": {
  "kernelspec": {
   "display_name": "Python 3",
   "language": "python",
   "name": "python3"
  },
  "language_info": {
   "codemirror_mode": {
    "name": "ipython",
    "version": 3
   },
   "file_extension": ".py",
   "mimetype": "text/x-python",
   "name": "python",
   "nbconvert_exporter": "python",
   "pygments_lexer": "ipython3",
   "version": "3.7.0"
  }
 },
 "nbformat": 4,
 "nbformat_minor": 2
}
