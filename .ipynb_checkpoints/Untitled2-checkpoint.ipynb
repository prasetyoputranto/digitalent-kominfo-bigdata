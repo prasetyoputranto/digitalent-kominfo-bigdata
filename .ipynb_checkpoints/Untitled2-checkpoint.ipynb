{
 "cells": [
  {
   "cell_type": "markdown",
   "metadata": {},
   "source": [
    "# TUGAS 2 List Nilai"
   ]
  },
  {
   "cell_type": "markdown",
   "metadata": {},
   "source": [
    "Diberikan sekumpulan Nilai Random antara 0 sampai dengan 100 sebanyak 250 nilai."
   ]
  },
  {
   "cell_type": "code",
   "execution_count": 2,
   "metadata": {},
   "outputs": [
    {
     "name": "stdout",
     "output_type": "stream",
     "text": [
      "[25, 92, 22, 90, 40, 3, 29, 25, 20, 49, 56, 7, 19, 43, 43, 95, 84, 38, 84, 11, 29, 13, 81, 12, 64, 6, 81, 14, 98, 33, 51, 32, 19, 49, 79, 53, 26, 30, 26, 85, 24, 12, 66, 91, 16, 40, 95, 84, 65, 28, 48, 92, 29, 66, 83, 78, 93, 62, 25, 30, 40, 56, 23, 32, 22, 93, 18, 88, 18, 5, 70, 62, 10, 25, 1, 73, 34, 53, 17, 34, 73, 43, 61, 94, 52, 55, 9, 35, 70, 68, 92, 72, 3, 29, 16, 78, 1, 92, 50, 96, 33, 89, 83, 58, 41, 36, 71, 6, 43, 5, 25, 73, 85, 43, 67, 72, 5, 12, 77, 65, 36, 40, 83, 23, 84, 18, 14, 54, 75, 96, 18, 8, 80, 7, 19, 77, 26, 75, 50, 22, 2, 44, 34, 56, 72, 29, 56, 58, 77, 54, 53, 70, 36, 27, 82, 85, 13, 91, 51, 63, 88, 84, 24, 79, 21, 32, 16, 95, 5, 23, 56, 52, 68, 3, 60, 4, 21, 84, 82, 83, 74, 76, 78, 15, 62, 90, 25, 60, 16, 83, 94, 53, 74, 51, 49, 49, 66, 12, 20, 90, 39, 93, 17, 31, 43, 5, 12, 5, 94, 86, 39, 68, 58, 19, 18, 8, 77, 29, 79, 46, 16, 99, 19, 33, 31, 79, 60, 50, 74, 82, 98, 59, 44, 83, 7, 78, 94, 68, 99, 67, 91, 68, 62, 98, 44, 81, 72, 82, 5, 34]\n"
     ]
    }
   ],
   "source": [
    "import random\n",
    "\n",
    "# GENERATE RANDOM\n",
    "nilaiTugas = []\n",
    "for i in range(250):\n",
    "    nilaiTugas.append(random.randrange(1,100,1))\n",
    "\n",
    "print(nilaiTugas)"
   ]
  },
  {
   "cell_type": "markdown",
   "metadata": {},
   "source": [
    "1. Tampilkan Angka Ganjil dari ke 250 nilai tersebut"
   ]
  },
  {
   "cell_type": "code",
   "execution_count": 3,
   "metadata": {},
   "outputs": [
    {
     "name": "stdout",
     "output_type": "stream",
     "text": [
      "Nilai Ganjil dalam barisan tersebut adalah  [25, 3, 29, 25, 49, 7, 19, 43, 43, 95, 11, 29, 13, 81, 81, 33, 51, 19, 49, 79, 53, 85, 91, 95, 65, 29, 83, 93, 25, 23, 93, 5, 25, 1, 73, 53, 17, 73, 43, 61, 55, 9, 35, 3, 29, 1, 33, 89, 83, 41, 71, 43, 5, 25, 73, 85, 43, 67, 5, 77, 65, 83, 23, 75, 7, 19, 77, 75, 29, 77, 53, 27, 85, 13, 91, 51, 63, 79, 21, 95, 5, 23, 3, 21, 83, 15, 25, 83, 53, 51, 49, 49, 39, 93, 17, 31, 43, 5, 5, 39, 19, 77, 29, 79, 99, 19, 33, 31, 79, 59, 83, 7, 99, 67, 91, 81, 5]\n"
     ]
    }
   ],
   "source": [
    "# ganjil\n",
    "nilai_ganjil=[]\n",
    "for i in nilaiTugas:\n",
    "    if i%2!=0:\n",
    "        nilai_ganjil.append(i)\n",
    "print('Nilai Ganjil dalam barisan tersebut adalah ', nilai_ganjil)"
   ]
  },
  {
   "cell_type": "markdown",
   "metadata": {},
   "source": [
    "2. Tampilkan berapa banyak yang mendapatkan nilai lebih dari 70"
   ]
  },
  {
   "cell_type": "code",
   "execution_count": 4,
   "metadata": {},
   "outputs": [
    {
     "name": "stdout",
     "output_type": "stream",
     "text": [
      "Nilai yang lebih dari 70 adalah sebanyak 80\n"
     ]
    }
   ],
   "source": [
    "# nilai > 70\n",
    "\n",
    "banyak=0\n",
    "for i in nilaiTugas:\n",
    "    if i>70:\n",
    "        banyak = banyak+1\n",
    "print('Nilai yang lebih dari 70 adalah sebanyak',banyak)"
   ]
  },
  {
   "cell_type": "markdown",
   "metadata": {},
   "source": [
    "3. Tampilkan standar deviasi dari sekumpulan nilai tersebut"
   ]
  },
  {
   "cell_type": "code",
   "execution_count": 5,
   "metadata": {},
   "outputs": [
    {
     "name": "stdout",
     "output_type": "stream",
     "text": [
      "Standard Deviasinya adalah  1.0253369085329955\n"
     ]
    }
   ],
   "source": [
    "# standar deviasi berdasarkan rumus statistika\n",
    "\n",
    "total = 0\n",
    "jumlah_data = len(nilaiTugas)\n",
    "for i in nilaiTugas:\n",
    "    total = total + float(i)\n",
    "rerata = total / jumlah_data\n",
    "\n",
    "jumlah_selisih_rerata_kuadrat=0\n",
    "for i in nilaiTugas:\n",
    "    selisih = i - rerata\n",
    "    kuadrat = selisih**2\n",
    "jumlah_selisih_rerata_kuadrat=jumlah_selisih_rerata_kuadrat+kuadrat\n",
    "\n",
    "varian = jumlah_selisih_rerata_kuadrat / (jumlah_data)\n",
    "std = varian**(1/2)\n",
    "print(\"Standard Deviasinya adalah \", std)"
   ]
  },
  {
   "cell_type": "markdown",
   "metadata": {},
   "source": [
    "4. Tampilkan nilai maksimum dan minimum"
   ]
  },
  {
   "cell_type": "code",
   "execution_count": 6,
   "metadata": {},
   "outputs": [
    {
     "name": "stdout",
     "output_type": "stream",
     "text": [
      "Nilai maksimumnya adalah 99 dan nilai minimumnya adalah 1\n"
     ]
    }
   ],
   "source": [
    "# maksimum\n",
    "\n",
    "maks=nilaiTugas[0]\n",
    "for i in nilaiTugas:\n",
    "    if i> maks:\n",
    "        maks=i\n",
    "\n",
    "# minimum\n",
    "\n",
    "mini=nilaiTugas[0]\n",
    "for i in nilaiTugas:\n",
    "    if i< mini:\n",
    "        mini=i\n",
    "print ('Nilai maksimumnya adalah',maks,'dan nilai minimumnya adalah',mini)"
   ]
  },
  {
   "cell_type": "markdown",
   "metadata": {},
   "source": [
    "5. Tampilkan modus dari sekumpulan nilai tersebut"
   ]
  },
  {
   "cell_type": "code",
   "execution_count": 7,
   "metadata": {},
   "outputs": [
    {
     "name": "stdout",
     "output_type": "stream",
     "text": [
      "Modus pada data ini adalah [5] dengan kemunculan sebanyak 7 kali\n"
     ]
    }
   ],
   "source": [
    "nilaiKeys = set(nilaiTugas)\n",
    "listKeys = list(nilaiKeys)\n",
    "\n",
    "kemunculan = 0\n",
    "datamodus = []\n",
    "dict_nilai = {}\n",
    "for k in listKeys:\n",
    "    n_freq = nilaiTugas.count(k)\n",
    "    dict_nilai[k] = n_freq\n",
    "    if n_freq>kemunculan:\n",
    "        kemunculan = n_freq\n",
    "\n",
    "# print(dictionaryNilai)\n",
    "\n",
    "for k,v in dict_nilai.items():\n",
    "    if v == kemunculan:\n",
    "        datamodus.append(k)\n",
    "        \n",
    "print('Modus pada data ini adalah',datamodus, 'dengan kemunculan sebanyak',kemunculan,'kali')"
   ]
  },
  {
   "cell_type": "code",
   "execution_count": null,
   "metadata": {},
   "outputs": [],
   "source": []
  }
 ],
 "metadata": {
  "kernelspec": {
   "display_name": "Python 3",
   "language": "python",
   "name": "python3"
  },
  "language_info": {
   "codemirror_mode": {
    "name": "ipython",
    "version": 3
   },
   "file_extension": ".py",
   "mimetype": "text/x-python",
   "name": "python",
   "nbconvert_exporter": "python",
   "pygments_lexer": "ipython3",
   "version": "3.7.0"
  }
 },
 "nbformat": 4,
 "nbformat_minor": 2
}
